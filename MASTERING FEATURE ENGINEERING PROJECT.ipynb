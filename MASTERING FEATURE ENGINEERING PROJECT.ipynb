{
 "cells": [
  {
   "cell_type": "code",
   "execution_count": null,
   "id": "daeeb785",
   "metadata": {},
   "outputs": [],
   "source": []
  },
  {
   "cell_type": "markdown",
   "id": "1f0ad09d",
   "metadata": {},
   "source": [
    "# Objective\n",
    "\n",
    "### The objective of this project is to show how to apply Feature Engineering to a dataset."
   ]
  },
  {
   "cell_type": "code",
   "execution_count": null,
   "id": "cfc5818b",
   "metadata": {},
   "outputs": [],
   "source": []
  },
  {
   "cell_type": "markdown",
   "id": "18687510",
   "metadata": {},
   "source": [
    "# Data Description\n",
    "\n",
    "### The Telecom Customer Chrun dataset, which contains information about customer demographics, location, services, and current status. It is churn data for a hypothetical telecommunications company that offers phone and internet services to 7048 customers in California. "
   ]
  },
  {
   "cell_type": "code",
   "execution_count": null,
   "id": "e9653e58",
   "metadata": {},
   "outputs": [],
   "source": []
  },
  {
   "cell_type": "markdown",
   "id": "e334f503",
   "metadata": {},
   "source": [
    "# Importing The Libraries"
   ]
  },
  {
   "cell_type": "code",
   "execution_count": 1,
   "id": "2e2395b6",
   "metadata": {},
   "outputs": [],
   "source": [
    "import numpy as np\n",
    "import pandas as pd\n",
    "import matplotlib.pyplot as plt\n",
    "import seaborn as sns\n",
    "plt.style.use('ggplot')"
   ]
  },
  {
   "cell_type": "code",
   "execution_count": null,
   "id": "a7347d2c",
   "metadata": {},
   "outputs": [],
   "source": []
  },
  {
   "cell_type": "markdown",
   "id": "61e49918",
   "metadata": {},
   "source": [
    "# Importing the Dataset"
   ]
  },
  {
   "cell_type": "code",
   "execution_count": 4,
   "id": "fdb973d6",
   "metadata": {},
   "outputs": [],
   "source": [
    "# Let's import the dataset for the project\n",
    "\n",
    "Customer_data = pd.read_csv('C:\\\\Users\\\\LENOVO USER\\\\Downloads\\\\telecom_customer_churn.csv')"
   ]
  },
  {
   "cell_type": "code",
   "execution_count": null,
   "id": "6d15b011",
   "metadata": {},
   "outputs": [],
   "source": []
  },
  {
   "cell_type": "markdown",
   "id": "c5132e14",
   "metadata": {},
   "source": [
    "# Check Top Five Rows of the Dataset"
   ]
  },
  {
   "cell_type": "code",
   "execution_count": 5,
   "id": "a871bf05",
   "metadata": {},
   "outputs": [
    {
     "data": {
      "text/html": [
       "<div>\n",
       "<style scoped>\n",
       "    .dataframe tbody tr th:only-of-type {\n",
       "        vertical-align: middle;\n",
       "    }\n",
       "\n",
       "    .dataframe tbody tr th {\n",
       "        vertical-align: top;\n",
       "    }\n",
       "\n",
       "    .dataframe thead th {\n",
       "        text-align: right;\n",
       "    }\n",
       "</style>\n",
       "<table border=\"1\" class=\"dataframe\">\n",
       "  <thead>\n",
       "    <tr style=\"text-align: right;\">\n",
       "      <th></th>\n",
       "      <th>Customer ID</th>\n",
       "      <th>Gender</th>\n",
       "      <th>Age</th>\n",
       "      <th>Married</th>\n",
       "      <th>Number of Dependents</th>\n",
       "      <th>City</th>\n",
       "      <th>Zip Code</th>\n",
       "      <th>Latitude</th>\n",
       "      <th>Longitude</th>\n",
       "      <th>Number of Referrals</th>\n",
       "      <th>Tenure in Months</th>\n",
       "      <th>Offer</th>\n",
       "      <th>Phone Service</th>\n",
       "      <th>Avg Monthly Long Distance Charges</th>\n",
       "      <th>Multiple Lines</th>\n",
       "      <th>Internet Service</th>\n",
       "      <th>Internet Type</th>\n",
       "      <th>Avg Monthly GB Download</th>\n",
       "      <th>Online Security</th>\n",
       "      <th>Online Backup</th>\n",
       "      <th>Device Protection Plan</th>\n",
       "      <th>Premium Tech Support</th>\n",
       "      <th>Streaming TV</th>\n",
       "      <th>Streaming Movies</th>\n",
       "      <th>Streaming Music</th>\n",
       "      <th>Unlimited Data</th>\n",
       "      <th>Contract</th>\n",
       "      <th>Paperless Billing</th>\n",
       "      <th>Payment Method</th>\n",
       "      <th>Monthly Charge</th>\n",
       "      <th>Total Charges</th>\n",
       "      <th>Total Refunds</th>\n",
       "      <th>Total Extra Data Charges</th>\n",
       "      <th>Total Long Distance Charges</th>\n",
       "      <th>Total Revenue</th>\n",
       "      <th>Customer Status</th>\n",
       "      <th>Churn Category</th>\n",
       "      <th>Churn Reason</th>\n",
       "    </tr>\n",
       "  </thead>\n",
       "  <tbody>\n",
       "    <tr>\n",
       "      <th>0</th>\n",
       "      <td>0002-ORFBO</td>\n",
       "      <td>Female</td>\n",
       "      <td>37</td>\n",
       "      <td>Yes</td>\n",
       "      <td>0</td>\n",
       "      <td>Frazier Park</td>\n",
       "      <td>93225</td>\n",
       "      <td>34.827662</td>\n",
       "      <td>-118.999073</td>\n",
       "      <td>2</td>\n",
       "      <td>9</td>\n",
       "      <td>None</td>\n",
       "      <td>Yes</td>\n",
       "      <td>42.39</td>\n",
       "      <td>No</td>\n",
       "      <td>Yes</td>\n",
       "      <td>Cable</td>\n",
       "      <td>16.0</td>\n",
       "      <td>No</td>\n",
       "      <td>Yes</td>\n",
       "      <td>No</td>\n",
       "      <td>Yes</td>\n",
       "      <td>Yes</td>\n",
       "      <td>No</td>\n",
       "      <td>No</td>\n",
       "      <td>Yes</td>\n",
       "      <td>One Year</td>\n",
       "      <td>Yes</td>\n",
       "      <td>Credit Card</td>\n",
       "      <td>65.6</td>\n",
       "      <td>593.30</td>\n",
       "      <td>0.00</td>\n",
       "      <td>0</td>\n",
       "      <td>381.51</td>\n",
       "      <td>974.81</td>\n",
       "      <td>Stayed</td>\n",
       "      <td>NaN</td>\n",
       "      <td>NaN</td>\n",
       "    </tr>\n",
       "    <tr>\n",
       "      <th>1</th>\n",
       "      <td>0003-MKNFE</td>\n",
       "      <td>Male</td>\n",
       "      <td>46</td>\n",
       "      <td>No</td>\n",
       "      <td>0</td>\n",
       "      <td>Glendale</td>\n",
       "      <td>91206</td>\n",
       "      <td>34.162515</td>\n",
       "      <td>-118.203869</td>\n",
       "      <td>0</td>\n",
       "      <td>9</td>\n",
       "      <td>None</td>\n",
       "      <td>Yes</td>\n",
       "      <td>10.69</td>\n",
       "      <td>Yes</td>\n",
       "      <td>Yes</td>\n",
       "      <td>Cable</td>\n",
       "      <td>10.0</td>\n",
       "      <td>No</td>\n",
       "      <td>No</td>\n",
       "      <td>No</td>\n",
       "      <td>No</td>\n",
       "      <td>No</td>\n",
       "      <td>Yes</td>\n",
       "      <td>Yes</td>\n",
       "      <td>No</td>\n",
       "      <td>Month-to-Month</td>\n",
       "      <td>No</td>\n",
       "      <td>Credit Card</td>\n",
       "      <td>-4.0</td>\n",
       "      <td>542.40</td>\n",
       "      <td>38.33</td>\n",
       "      <td>10</td>\n",
       "      <td>96.21</td>\n",
       "      <td>610.28</td>\n",
       "      <td>Stayed</td>\n",
       "      <td>NaN</td>\n",
       "      <td>NaN</td>\n",
       "    </tr>\n",
       "    <tr>\n",
       "      <th>2</th>\n",
       "      <td>0004-TLHLJ</td>\n",
       "      <td>Male</td>\n",
       "      <td>50</td>\n",
       "      <td>No</td>\n",
       "      <td>0</td>\n",
       "      <td>Costa Mesa</td>\n",
       "      <td>92627</td>\n",
       "      <td>33.645672</td>\n",
       "      <td>-117.922613</td>\n",
       "      <td>0</td>\n",
       "      <td>4</td>\n",
       "      <td>Offer E</td>\n",
       "      <td>Yes</td>\n",
       "      <td>33.65</td>\n",
       "      <td>No</td>\n",
       "      <td>Yes</td>\n",
       "      <td>Fiber Optic</td>\n",
       "      <td>30.0</td>\n",
       "      <td>No</td>\n",
       "      <td>No</td>\n",
       "      <td>Yes</td>\n",
       "      <td>No</td>\n",
       "      <td>No</td>\n",
       "      <td>No</td>\n",
       "      <td>No</td>\n",
       "      <td>Yes</td>\n",
       "      <td>Month-to-Month</td>\n",
       "      <td>Yes</td>\n",
       "      <td>Bank Withdrawal</td>\n",
       "      <td>73.9</td>\n",
       "      <td>280.85</td>\n",
       "      <td>0.00</td>\n",
       "      <td>0</td>\n",
       "      <td>134.60</td>\n",
       "      <td>415.45</td>\n",
       "      <td>Churned</td>\n",
       "      <td>Competitor</td>\n",
       "      <td>Competitor had better devices</td>\n",
       "    </tr>\n",
       "    <tr>\n",
       "      <th>3</th>\n",
       "      <td>0011-IGKFF</td>\n",
       "      <td>Male</td>\n",
       "      <td>78</td>\n",
       "      <td>Yes</td>\n",
       "      <td>0</td>\n",
       "      <td>Martinez</td>\n",
       "      <td>94553</td>\n",
       "      <td>38.014457</td>\n",
       "      <td>-122.115432</td>\n",
       "      <td>1</td>\n",
       "      <td>13</td>\n",
       "      <td>Offer D</td>\n",
       "      <td>Yes</td>\n",
       "      <td>27.82</td>\n",
       "      <td>No</td>\n",
       "      <td>Yes</td>\n",
       "      <td>Fiber Optic</td>\n",
       "      <td>4.0</td>\n",
       "      <td>No</td>\n",
       "      <td>Yes</td>\n",
       "      <td>Yes</td>\n",
       "      <td>No</td>\n",
       "      <td>Yes</td>\n",
       "      <td>Yes</td>\n",
       "      <td>No</td>\n",
       "      <td>Yes</td>\n",
       "      <td>Month-to-Month</td>\n",
       "      <td>Yes</td>\n",
       "      <td>Bank Withdrawal</td>\n",
       "      <td>98.0</td>\n",
       "      <td>1237.85</td>\n",
       "      <td>0.00</td>\n",
       "      <td>0</td>\n",
       "      <td>361.66</td>\n",
       "      <td>1599.51</td>\n",
       "      <td>Churned</td>\n",
       "      <td>Dissatisfaction</td>\n",
       "      <td>Product dissatisfaction</td>\n",
       "    </tr>\n",
       "    <tr>\n",
       "      <th>4</th>\n",
       "      <td>0013-EXCHZ</td>\n",
       "      <td>Female</td>\n",
       "      <td>75</td>\n",
       "      <td>Yes</td>\n",
       "      <td>0</td>\n",
       "      <td>Camarillo</td>\n",
       "      <td>93010</td>\n",
       "      <td>34.227846</td>\n",
       "      <td>-119.079903</td>\n",
       "      <td>3</td>\n",
       "      <td>3</td>\n",
       "      <td>None</td>\n",
       "      <td>Yes</td>\n",
       "      <td>7.38</td>\n",
       "      <td>No</td>\n",
       "      <td>Yes</td>\n",
       "      <td>Fiber Optic</td>\n",
       "      <td>11.0</td>\n",
       "      <td>No</td>\n",
       "      <td>No</td>\n",
       "      <td>No</td>\n",
       "      <td>Yes</td>\n",
       "      <td>Yes</td>\n",
       "      <td>No</td>\n",
       "      <td>No</td>\n",
       "      <td>Yes</td>\n",
       "      <td>Month-to-Month</td>\n",
       "      <td>Yes</td>\n",
       "      <td>Credit Card</td>\n",
       "      <td>83.9</td>\n",
       "      <td>267.40</td>\n",
       "      <td>0.00</td>\n",
       "      <td>0</td>\n",
       "      <td>22.14</td>\n",
       "      <td>289.54</td>\n",
       "      <td>Churned</td>\n",
       "      <td>Dissatisfaction</td>\n",
       "      <td>Network reliability</td>\n",
       "    </tr>\n",
       "  </tbody>\n",
       "</table>\n",
       "</div>"
      ],
      "text/plain": [
       "  Customer ID  Gender  Age Married  Number of Dependents          City  \\\n",
       "0  0002-ORFBO  Female   37     Yes                     0  Frazier Park   \n",
       "1  0003-MKNFE    Male   46      No                     0      Glendale   \n",
       "2  0004-TLHLJ    Male   50      No                     0    Costa Mesa   \n",
       "3  0011-IGKFF    Male   78     Yes                     0      Martinez   \n",
       "4  0013-EXCHZ  Female   75     Yes                     0     Camarillo   \n",
       "\n",
       "   Zip Code   Latitude   Longitude  Number of Referrals  Tenure in Months  \\\n",
       "0     93225  34.827662 -118.999073                    2                 9   \n",
       "1     91206  34.162515 -118.203869                    0                 9   \n",
       "2     92627  33.645672 -117.922613                    0                 4   \n",
       "3     94553  38.014457 -122.115432                    1                13   \n",
       "4     93010  34.227846 -119.079903                    3                 3   \n",
       "\n",
       "     Offer Phone Service  Avg Monthly Long Distance Charges Multiple Lines  \\\n",
       "0     None           Yes                              42.39             No   \n",
       "1     None           Yes                              10.69            Yes   \n",
       "2  Offer E           Yes                              33.65             No   \n",
       "3  Offer D           Yes                              27.82             No   \n",
       "4     None           Yes                               7.38             No   \n",
       "\n",
       "  Internet Service Internet Type  Avg Monthly GB Download Online Security  \\\n",
       "0              Yes         Cable                     16.0              No   \n",
       "1              Yes         Cable                     10.0              No   \n",
       "2              Yes   Fiber Optic                     30.0              No   \n",
       "3              Yes   Fiber Optic                      4.0              No   \n",
       "4              Yes   Fiber Optic                     11.0              No   \n",
       "\n",
       "  Online Backup Device Protection Plan Premium Tech Support Streaming TV  \\\n",
       "0           Yes                     No                  Yes          Yes   \n",
       "1            No                     No                   No           No   \n",
       "2            No                    Yes                   No           No   \n",
       "3           Yes                    Yes                   No          Yes   \n",
       "4            No                     No                  Yes          Yes   \n",
       "\n",
       "  Streaming Movies Streaming Music Unlimited Data        Contract  \\\n",
       "0               No              No            Yes        One Year   \n",
       "1              Yes             Yes             No  Month-to-Month   \n",
       "2               No              No            Yes  Month-to-Month   \n",
       "3              Yes              No            Yes  Month-to-Month   \n",
       "4               No              No            Yes  Month-to-Month   \n",
       "\n",
       "  Paperless Billing   Payment Method  Monthly Charge  Total Charges  \\\n",
       "0               Yes      Credit Card            65.6         593.30   \n",
       "1                No      Credit Card            -4.0         542.40   \n",
       "2               Yes  Bank Withdrawal            73.9         280.85   \n",
       "3               Yes  Bank Withdrawal            98.0        1237.85   \n",
       "4               Yes      Credit Card            83.9         267.40   \n",
       "\n",
       "   Total Refunds  Total Extra Data Charges  Total Long Distance Charges  \\\n",
       "0           0.00                         0                       381.51   \n",
       "1          38.33                        10                        96.21   \n",
       "2           0.00                         0                       134.60   \n",
       "3           0.00                         0                       361.66   \n",
       "4           0.00                         0                        22.14   \n",
       "\n",
       "   Total Revenue Customer Status   Churn Category  \\\n",
       "0         974.81          Stayed              NaN   \n",
       "1         610.28          Stayed              NaN   \n",
       "2         415.45         Churned       Competitor   \n",
       "3        1599.51         Churned  Dissatisfaction   \n",
       "4         289.54         Churned  Dissatisfaction   \n",
       "\n",
       "                    Churn Reason  \n",
       "0                            NaN  \n",
       "1                            NaN  \n",
       "2  Competitor had better devices  \n",
       "3        Product dissatisfaction  \n",
       "4            Network reliability  "
      ]
     },
     "execution_count": 5,
     "metadata": {},
     "output_type": "execute_result"
    }
   ],
   "source": [
    "pd.set_option(\"Display.max_columns\", None)\n",
    "\n",
    "Customer_data.head()"
   ]
  },
  {
   "cell_type": "code",
   "execution_count": null,
   "id": "bed36c53",
   "metadata": {},
   "outputs": [],
   "source": []
  },
  {
   "cell_type": "markdown",
   "id": "d538cdab",
   "metadata": {},
   "source": [
    "# Check Last Five Rows of The Dataset"
   ]
  },
  {
   "cell_type": "code",
   "execution_count": 6,
   "id": "0a966679",
   "metadata": {},
   "outputs": [
    {
     "data": {
      "text/html": [
       "<div>\n",
       "<style scoped>\n",
       "    .dataframe tbody tr th:only-of-type {\n",
       "        vertical-align: middle;\n",
       "    }\n",
       "\n",
       "    .dataframe tbody tr th {\n",
       "        vertical-align: top;\n",
       "    }\n",
       "\n",
       "    .dataframe thead th {\n",
       "        text-align: right;\n",
       "    }\n",
       "</style>\n",
       "<table border=\"1\" class=\"dataframe\">\n",
       "  <thead>\n",
       "    <tr style=\"text-align: right;\">\n",
       "      <th></th>\n",
       "      <th>Customer ID</th>\n",
       "      <th>Gender</th>\n",
       "      <th>Age</th>\n",
       "      <th>Married</th>\n",
       "      <th>Number of Dependents</th>\n",
       "      <th>City</th>\n",
       "      <th>Zip Code</th>\n",
       "      <th>Latitude</th>\n",
       "      <th>Longitude</th>\n",
       "      <th>Number of Referrals</th>\n",
       "      <th>Tenure in Months</th>\n",
       "      <th>Offer</th>\n",
       "      <th>Phone Service</th>\n",
       "      <th>Avg Monthly Long Distance Charges</th>\n",
       "      <th>Multiple Lines</th>\n",
       "      <th>Internet Service</th>\n",
       "      <th>Internet Type</th>\n",
       "      <th>Avg Monthly GB Download</th>\n",
       "      <th>Online Security</th>\n",
       "      <th>Online Backup</th>\n",
       "      <th>Device Protection Plan</th>\n",
       "      <th>Premium Tech Support</th>\n",
       "      <th>Streaming TV</th>\n",
       "      <th>Streaming Movies</th>\n",
       "      <th>Streaming Music</th>\n",
       "      <th>Unlimited Data</th>\n",
       "      <th>Contract</th>\n",
       "      <th>Paperless Billing</th>\n",
       "      <th>Payment Method</th>\n",
       "      <th>Monthly Charge</th>\n",
       "      <th>Total Charges</th>\n",
       "      <th>Total Refunds</th>\n",
       "      <th>Total Extra Data Charges</th>\n",
       "      <th>Total Long Distance Charges</th>\n",
       "      <th>Total Revenue</th>\n",
       "      <th>Customer Status</th>\n",
       "      <th>Churn Category</th>\n",
       "      <th>Churn Reason</th>\n",
       "    </tr>\n",
       "  </thead>\n",
       "  <tbody>\n",
       "    <tr>\n",
       "      <th>7038</th>\n",
       "      <td>9987-LUTYD</td>\n",
       "      <td>Female</td>\n",
       "      <td>20</td>\n",
       "      <td>No</td>\n",
       "      <td>0</td>\n",
       "      <td>La Mesa</td>\n",
       "      <td>91941</td>\n",
       "      <td>32.759327</td>\n",
       "      <td>-116.997260</td>\n",
       "      <td>0</td>\n",
       "      <td>13</td>\n",
       "      <td>Offer D</td>\n",
       "      <td>Yes</td>\n",
       "      <td>46.68</td>\n",
       "      <td>No</td>\n",
       "      <td>Yes</td>\n",
       "      <td>DSL</td>\n",
       "      <td>59.0</td>\n",
       "      <td>Yes</td>\n",
       "      <td>No</td>\n",
       "      <td>No</td>\n",
       "      <td>Yes</td>\n",
       "      <td>No</td>\n",
       "      <td>No</td>\n",
       "      <td>Yes</td>\n",
       "      <td>Yes</td>\n",
       "      <td>One Year</td>\n",
       "      <td>No</td>\n",
       "      <td>Credit Card</td>\n",
       "      <td>55.15</td>\n",
       "      <td>742.90</td>\n",
       "      <td>0.0</td>\n",
       "      <td>0</td>\n",
       "      <td>606.84</td>\n",
       "      <td>1349.74</td>\n",
       "      <td>Stayed</td>\n",
       "      <td>NaN</td>\n",
       "      <td>NaN</td>\n",
       "    </tr>\n",
       "    <tr>\n",
       "      <th>7039</th>\n",
       "      <td>9992-RRAMN</td>\n",
       "      <td>Male</td>\n",
       "      <td>40</td>\n",
       "      <td>Yes</td>\n",
       "      <td>0</td>\n",
       "      <td>Riverbank</td>\n",
       "      <td>95367</td>\n",
       "      <td>37.734971</td>\n",
       "      <td>-120.954271</td>\n",
       "      <td>1</td>\n",
       "      <td>22</td>\n",
       "      <td>Offer D</td>\n",
       "      <td>Yes</td>\n",
       "      <td>16.20</td>\n",
       "      <td>Yes</td>\n",
       "      <td>Yes</td>\n",
       "      <td>Fiber Optic</td>\n",
       "      <td>17.0</td>\n",
       "      <td>No</td>\n",
       "      <td>No</td>\n",
       "      <td>No</td>\n",
       "      <td>No</td>\n",
       "      <td>No</td>\n",
       "      <td>Yes</td>\n",
       "      <td>Yes</td>\n",
       "      <td>Yes</td>\n",
       "      <td>Month-to-Month</td>\n",
       "      <td>Yes</td>\n",
       "      <td>Bank Withdrawal</td>\n",
       "      <td>85.10</td>\n",
       "      <td>1873.70</td>\n",
       "      <td>0.0</td>\n",
       "      <td>0</td>\n",
       "      <td>356.40</td>\n",
       "      <td>2230.10</td>\n",
       "      <td>Churned</td>\n",
       "      <td>Dissatisfaction</td>\n",
       "      <td>Product dissatisfaction</td>\n",
       "    </tr>\n",
       "    <tr>\n",
       "      <th>7040</th>\n",
       "      <td>9992-UJOEL</td>\n",
       "      <td>Male</td>\n",
       "      <td>22</td>\n",
       "      <td>No</td>\n",
       "      <td>0</td>\n",
       "      <td>Elk</td>\n",
       "      <td>95432</td>\n",
       "      <td>39.108252</td>\n",
       "      <td>-123.645121</td>\n",
       "      <td>0</td>\n",
       "      <td>2</td>\n",
       "      <td>Offer E</td>\n",
       "      <td>Yes</td>\n",
       "      <td>18.62</td>\n",
       "      <td>No</td>\n",
       "      <td>Yes</td>\n",
       "      <td>DSL</td>\n",
       "      <td>51.0</td>\n",
       "      <td>No</td>\n",
       "      <td>Yes</td>\n",
       "      <td>No</td>\n",
       "      <td>No</td>\n",
       "      <td>No</td>\n",
       "      <td>No</td>\n",
       "      <td>No</td>\n",
       "      <td>Yes</td>\n",
       "      <td>Month-to-Month</td>\n",
       "      <td>Yes</td>\n",
       "      <td>Credit Card</td>\n",
       "      <td>50.30</td>\n",
       "      <td>92.75</td>\n",
       "      <td>0.0</td>\n",
       "      <td>0</td>\n",
       "      <td>37.24</td>\n",
       "      <td>129.99</td>\n",
       "      <td>Joined</td>\n",
       "      <td>NaN</td>\n",
       "      <td>NaN</td>\n",
       "    </tr>\n",
       "    <tr>\n",
       "      <th>7041</th>\n",
       "      <td>9993-LHIEB</td>\n",
       "      <td>Male</td>\n",
       "      <td>21</td>\n",
       "      <td>Yes</td>\n",
       "      <td>0</td>\n",
       "      <td>Solana Beach</td>\n",
       "      <td>92075</td>\n",
       "      <td>33.001813</td>\n",
       "      <td>-117.263628</td>\n",
       "      <td>5</td>\n",
       "      <td>67</td>\n",
       "      <td>Offer A</td>\n",
       "      <td>Yes</td>\n",
       "      <td>2.12</td>\n",
       "      <td>No</td>\n",
       "      <td>Yes</td>\n",
       "      <td>Cable</td>\n",
       "      <td>58.0</td>\n",
       "      <td>Yes</td>\n",
       "      <td>No</td>\n",
       "      <td>Yes</td>\n",
       "      <td>Yes</td>\n",
       "      <td>No</td>\n",
       "      <td>Yes</td>\n",
       "      <td>Yes</td>\n",
       "      <td>Yes</td>\n",
       "      <td>Two Year</td>\n",
       "      <td>No</td>\n",
       "      <td>Credit Card</td>\n",
       "      <td>67.85</td>\n",
       "      <td>4627.65</td>\n",
       "      <td>0.0</td>\n",
       "      <td>0</td>\n",
       "      <td>142.04</td>\n",
       "      <td>4769.69</td>\n",
       "      <td>Stayed</td>\n",
       "      <td>NaN</td>\n",
       "      <td>NaN</td>\n",
       "    </tr>\n",
       "    <tr>\n",
       "      <th>7042</th>\n",
       "      <td>9995-HOTOH</td>\n",
       "      <td>Male</td>\n",
       "      <td>36</td>\n",
       "      <td>Yes</td>\n",
       "      <td>0</td>\n",
       "      <td>Sierra City</td>\n",
       "      <td>96125</td>\n",
       "      <td>39.600599</td>\n",
       "      <td>-120.636358</td>\n",
       "      <td>1</td>\n",
       "      <td>63</td>\n",
       "      <td>None</td>\n",
       "      <td>No</td>\n",
       "      <td>NaN</td>\n",
       "      <td>NaN</td>\n",
       "      <td>Yes</td>\n",
       "      <td>Cable</td>\n",
       "      <td>5.0</td>\n",
       "      <td>Yes</td>\n",
       "      <td>Yes</td>\n",
       "      <td>Yes</td>\n",
       "      <td>No</td>\n",
       "      <td>Yes</td>\n",
       "      <td>Yes</td>\n",
       "      <td>Yes</td>\n",
       "      <td>Yes</td>\n",
       "      <td>Two Year</td>\n",
       "      <td>No</td>\n",
       "      <td>Bank Withdrawal</td>\n",
       "      <td>59.00</td>\n",
       "      <td>3707.60</td>\n",
       "      <td>0.0</td>\n",
       "      <td>0</td>\n",
       "      <td>0.00</td>\n",
       "      <td>3707.60</td>\n",
       "      <td>Stayed</td>\n",
       "      <td>NaN</td>\n",
       "      <td>NaN</td>\n",
       "    </tr>\n",
       "  </tbody>\n",
       "</table>\n",
       "</div>"
      ],
      "text/plain": [
       "     Customer ID  Gender  Age Married  Number of Dependents          City  \\\n",
       "7038  9987-LUTYD  Female   20      No                     0       La Mesa   \n",
       "7039  9992-RRAMN    Male   40     Yes                     0     Riverbank   \n",
       "7040  9992-UJOEL    Male   22      No                     0           Elk   \n",
       "7041  9993-LHIEB    Male   21     Yes                     0  Solana Beach   \n",
       "7042  9995-HOTOH    Male   36     Yes                     0   Sierra City   \n",
       "\n",
       "      Zip Code   Latitude   Longitude  Number of Referrals  Tenure in Months  \\\n",
       "7038     91941  32.759327 -116.997260                    0                13   \n",
       "7039     95367  37.734971 -120.954271                    1                22   \n",
       "7040     95432  39.108252 -123.645121                    0                 2   \n",
       "7041     92075  33.001813 -117.263628                    5                67   \n",
       "7042     96125  39.600599 -120.636358                    1                63   \n",
       "\n",
       "        Offer Phone Service  Avg Monthly Long Distance Charges Multiple Lines  \\\n",
       "7038  Offer D           Yes                              46.68             No   \n",
       "7039  Offer D           Yes                              16.20            Yes   \n",
       "7040  Offer E           Yes                              18.62             No   \n",
       "7041  Offer A           Yes                               2.12             No   \n",
       "7042     None            No                                NaN            NaN   \n",
       "\n",
       "     Internet Service Internet Type  Avg Monthly GB Download Online Security  \\\n",
       "7038              Yes           DSL                     59.0             Yes   \n",
       "7039              Yes   Fiber Optic                     17.0              No   \n",
       "7040              Yes           DSL                     51.0              No   \n",
       "7041              Yes         Cable                     58.0             Yes   \n",
       "7042              Yes         Cable                      5.0             Yes   \n",
       "\n",
       "     Online Backup Device Protection Plan Premium Tech Support Streaming TV  \\\n",
       "7038            No                     No                  Yes           No   \n",
       "7039            No                     No                   No           No   \n",
       "7040           Yes                     No                   No           No   \n",
       "7041            No                    Yes                  Yes           No   \n",
       "7042           Yes                    Yes                   No          Yes   \n",
       "\n",
       "     Streaming Movies Streaming Music Unlimited Data        Contract  \\\n",
       "7038               No             Yes            Yes        One Year   \n",
       "7039              Yes             Yes            Yes  Month-to-Month   \n",
       "7040               No              No            Yes  Month-to-Month   \n",
       "7041              Yes             Yes            Yes        Two Year   \n",
       "7042              Yes             Yes            Yes        Two Year   \n",
       "\n",
       "     Paperless Billing   Payment Method  Monthly Charge  Total Charges  \\\n",
       "7038                No      Credit Card           55.15         742.90   \n",
       "7039               Yes  Bank Withdrawal           85.10        1873.70   \n",
       "7040               Yes      Credit Card           50.30          92.75   \n",
       "7041                No      Credit Card           67.85        4627.65   \n",
       "7042                No  Bank Withdrawal           59.00        3707.60   \n",
       "\n",
       "      Total Refunds  Total Extra Data Charges  Total Long Distance Charges  \\\n",
       "7038            0.0                         0                       606.84   \n",
       "7039            0.0                         0                       356.40   \n",
       "7040            0.0                         0                        37.24   \n",
       "7041            0.0                         0                       142.04   \n",
       "7042            0.0                         0                         0.00   \n",
       "\n",
       "      Total Revenue Customer Status   Churn Category             Churn Reason  \n",
       "7038        1349.74          Stayed              NaN                      NaN  \n",
       "7039        2230.10         Churned  Dissatisfaction  Product dissatisfaction  \n",
       "7040         129.99          Joined              NaN                      NaN  \n",
       "7041        4769.69          Stayed              NaN                      NaN  \n",
       "7042        3707.60          Stayed              NaN                      NaN  "
      ]
     },
     "execution_count": 6,
     "metadata": {},
     "output_type": "execute_result"
    }
   ],
   "source": [
    "Customer_data.tail()"
   ]
  },
  {
   "cell_type": "code",
   "execution_count": null,
   "id": "5f11a58a",
   "metadata": {},
   "outputs": [],
   "source": []
  },
  {
   "cell_type": "markdown",
   "id": "6db5cf43",
   "metadata": {},
   "source": [
    "# Get Information About Our Dataset"
   ]
  },
  {
   "cell_type": "code",
   "execution_count": 7,
   "id": "fe9a651f",
   "metadata": {},
   "outputs": [
    {
     "name": "stdout",
     "output_type": "stream",
     "text": [
      "<class 'pandas.core.frame.DataFrame'>\n",
      "RangeIndex: 7043 entries, 0 to 7042\n",
      "Data columns (total 38 columns):\n",
      " #   Column                             Non-Null Count  Dtype  \n",
      "---  ------                             --------------  -----  \n",
      " 0   Customer ID                        7043 non-null   object \n",
      " 1   Gender                             7043 non-null   object \n",
      " 2   Age                                7043 non-null   int64  \n",
      " 3   Married                            7043 non-null   object \n",
      " 4   Number of Dependents               7043 non-null   int64  \n",
      " 5   City                               7043 non-null   object \n",
      " 6   Zip Code                           7043 non-null   int64  \n",
      " 7   Latitude                           7043 non-null   float64\n",
      " 8   Longitude                          7043 non-null   float64\n",
      " 9   Number of Referrals                7043 non-null   int64  \n",
      " 10  Tenure in Months                   7043 non-null   int64  \n",
      " 11  Offer                              7043 non-null   object \n",
      " 12  Phone Service                      7043 non-null   object \n",
      " 13  Avg Monthly Long Distance Charges  6361 non-null   float64\n",
      " 14  Multiple Lines                     6361 non-null   object \n",
      " 15  Internet Service                   7043 non-null   object \n",
      " 16  Internet Type                      5517 non-null   object \n",
      " 17  Avg Monthly GB Download            5517 non-null   float64\n",
      " 18  Online Security                    5517 non-null   object \n",
      " 19  Online Backup                      5517 non-null   object \n",
      " 20  Device Protection Plan             5517 non-null   object \n",
      " 21  Premium Tech Support               5517 non-null   object \n",
      " 22  Streaming TV                       5517 non-null   object \n",
      " 23  Streaming Movies                   5517 non-null   object \n",
      " 24  Streaming Music                    5517 non-null   object \n",
      " 25  Unlimited Data                     5517 non-null   object \n",
      " 26  Contract                           7043 non-null   object \n",
      " 27  Paperless Billing                  7043 non-null   object \n",
      " 28  Payment Method                     7043 non-null   object \n",
      " 29  Monthly Charge                     7043 non-null   float64\n",
      " 30  Total Charges                      7043 non-null   float64\n",
      " 31  Total Refunds                      7043 non-null   float64\n",
      " 32  Total Extra Data Charges           7043 non-null   int64  \n",
      " 33  Total Long Distance Charges        7043 non-null   float64\n",
      " 34  Total Revenue                      7043 non-null   float64\n",
      " 35  Customer Status                    7043 non-null   object \n",
      " 36  Churn Category                     1869 non-null   object \n",
      " 37  Churn Reason                       1869 non-null   object \n",
      "dtypes: float64(9), int64(6), object(23)\n",
      "memory usage: 2.0+ MB\n"
     ]
    }
   ],
   "source": [
    "Customer_data.info()"
   ]
  },
  {
   "cell_type": "markdown",
   "id": "e53c01d7",
   "metadata": {},
   "source": [
    "### The data types in our dataset shows there are nine float64, six int64, and twenty-three object."
   ]
  },
  {
   "cell_type": "code",
   "execution_count": null,
   "id": "a945bc84",
   "metadata": {},
   "outputs": [],
   "source": []
  },
  {
   "cell_type": "markdown",
   "id": "d12b3788",
   "metadata": {},
   "source": [
    "# Find The Shape of Our Dataset (Number of Rows and Columns)"
   ]
  },
  {
   "cell_type": "code",
   "execution_count": 8,
   "id": "5c9c0e89",
   "metadata": {},
   "outputs": [
    {
     "data": {
      "text/plain": [
       "(7043, 38)"
      ]
     },
     "execution_count": 8,
     "metadata": {},
     "output_type": "execute_result"
    }
   ],
   "source": [
    "# Let's check the shape of our dataset\n",
    "\n",
    "Customer_data.shape"
   ]
  },
  {
   "cell_type": "code",
   "execution_count": 9,
   "id": "7d8f7045",
   "metadata": {},
   "outputs": [
    {
     "name": "stdout",
     "output_type": "stream",
     "text": [
      "Numbers of Rows 7043\n",
      "Numbers of Columns 38\n"
     ]
    }
   ],
   "source": [
    "print('Numbers of Rows', Customer_data.shape[0])\n",
    "print('Numbers of Columns', Customer_data.shape[1])"
   ]
  },
  {
   "cell_type": "markdown",
   "id": "0f176f65",
   "metadata": {},
   "source": [
    "### Our dataset contains 7043 rows and 38 columns."
   ]
  },
  {
   "cell_type": "code",
   "execution_count": null,
   "id": "c65b2aca",
   "metadata": {},
   "outputs": [],
   "source": []
  },
  {
   "cell_type": "markdown",
   "id": "fc986f32",
   "metadata": {},
   "source": [
    "# Check The Null Values in Our Dataset"
   ]
  },
  {
   "cell_type": "code",
   "execution_count": 10,
   "id": "61dfbd0d",
   "metadata": {},
   "outputs": [
    {
     "data": {
      "text/plain": [
       "Customer ID                             0\n",
       "Gender                                  0\n",
       "Age                                     0\n",
       "Married                                 0\n",
       "Number of Dependents                    0\n",
       "City                                    0\n",
       "Zip Code                                0\n",
       "Latitude                                0\n",
       "Longitude                               0\n",
       "Number of Referrals                     0\n",
       "Tenure in Months                        0\n",
       "Offer                                   0\n",
       "Phone Service                           0\n",
       "Avg Monthly Long Distance Charges     682\n",
       "Multiple Lines                        682\n",
       "Internet Service                        0\n",
       "Internet Type                        1526\n",
       "Avg Monthly GB Download              1526\n",
       "Online Security                      1526\n",
       "Online Backup                        1526\n",
       "Device Protection Plan               1526\n",
       "Premium Tech Support                 1526\n",
       "Streaming TV                         1526\n",
       "Streaming Movies                     1526\n",
       "Streaming Music                      1526\n",
       "Unlimited Data                       1526\n",
       "Contract                                0\n",
       "Paperless Billing                       0\n",
       "Payment Method                          0\n",
       "Monthly Charge                          0\n",
       "Total Charges                           0\n",
       "Total Refunds                           0\n",
       "Total Extra Data Charges                0\n",
       "Total Long Distance Charges             0\n",
       "Total Revenue                           0\n",
       "Customer Status                         0\n",
       "Churn Category                       5174\n",
       "Churn Reason                         5174\n",
       "dtype: int64"
      ]
     },
     "execution_count": 10,
     "metadata": {},
     "output_type": "execute_result"
    }
   ],
   "source": [
    "Customer_data.isnull().sum()"
   ]
  },
  {
   "cell_type": "markdown",
   "id": "d72535be",
   "metadata": {},
   "source": [
    "### There are much null values detected in our dataset which will be replaced their mode and mean values."
   ]
  },
  {
   "cell_type": "code",
   "execution_count": null,
   "id": "04dfa378",
   "metadata": {},
   "outputs": [],
   "source": []
  },
  {
   "cell_type": "markdown",
   "id": "a165a828",
   "metadata": {},
   "source": [
    "# Handling Missing Values\n",
    "\n",
    "### Mode\n",
    "\n",
    "### Median"
   ]
  },
  {
   "cell_type": "code",
   "execution_count": null,
   "id": "01b0568b",
   "metadata": {},
   "outputs": [],
   "source": []
  },
  {
   "cell_type": "code",
   "execution_count": 11,
   "id": "89a8fe34",
   "metadata": {},
   "outputs": [],
   "source": [
    "# Fill missing values in categorical columns with mode\n",
    "\n",
    "Customer_data['Multiple Lines'].fillna(Customer_data['Multiple Lines'].mode()[0], inplace=True)"
   ]
  },
  {
   "cell_type": "code",
   "execution_count": 12,
   "id": "d27f02c1",
   "metadata": {},
   "outputs": [],
   "source": [
    "Customer_data['Internet Type'].fillna(Customer_data['Internet Type'].mode()[0], inplace=True)"
   ]
  },
  {
   "cell_type": "code",
   "execution_count": 13,
   "id": "b8422b83",
   "metadata": {},
   "outputs": [],
   "source": [
    "Customer_data['Online Backup'].fillna(Customer_data['Online Backup'].mode()[0], inplace=True)"
   ]
  },
  {
   "cell_type": "code",
   "execution_count": 14,
   "id": "dd67724f",
   "metadata": {},
   "outputs": [],
   "source": [
    "Customer_data['Device Protection Plan'].fillna(Customer_data['Device Protection Plan'].mode()[0], inplace=True)"
   ]
  },
  {
   "cell_type": "code",
   "execution_count": 15,
   "id": "a692be79",
   "metadata": {},
   "outputs": [],
   "source": [
    "Customer_data['Premium Tech Support'].fillna(Customer_data['Premium Tech Support'].mode()[0], inplace=True)"
   ]
  },
  {
   "cell_type": "code",
   "execution_count": 16,
   "id": "29b43c5d",
   "metadata": {},
   "outputs": [],
   "source": [
    "Customer_data['Streaming TV'].fillna(Customer_data['Streaming TV'].mode()[0], inplace=True)"
   ]
  },
  {
   "cell_type": "code",
   "execution_count": 17,
   "id": "29bea01c",
   "metadata": {},
   "outputs": [],
   "source": [
    "Customer_data['Streaming Movies'].fillna(Customer_data['Streaming Movies'].mode()[0], inplace=True)"
   ]
  },
  {
   "cell_type": "code",
   "execution_count": 18,
   "id": "39841a42",
   "metadata": {},
   "outputs": [],
   "source": [
    "Customer_data['Streaming Music'].fillna(Customer_data['Streaming Music'].mode()[0], inplace=True)"
   ]
  },
  {
   "cell_type": "code",
   "execution_count": 19,
   "id": "16f8a259",
   "metadata": {},
   "outputs": [],
   "source": [
    "Customer_data['Unlimited Data'].fillna(Customer_data['Unlimited Data'].mode()[0], inplace=True)"
   ]
  },
  {
   "cell_type": "code",
   "execution_count": 20,
   "id": "4d311bbc",
   "metadata": {},
   "outputs": [],
   "source": [
    "Customer_data['Churn Category'].fillna(Customer_data['Churn Category'].mode()[0], inplace=True)"
   ]
  },
  {
   "cell_type": "code",
   "execution_count": 21,
   "id": "be9fd163",
   "metadata": {},
   "outputs": [],
   "source": [
    "Customer_data['Churn Reason'].fillna(Customer_data['Churn Reason'].mode()[0], inplace=True)"
   ]
  },
  {
   "cell_type": "code",
   "execution_count": 22,
   "id": "09baf911",
   "metadata": {},
   "outputs": [],
   "source": [
    "Customer_data['Online Security'].fillna(Customer_data['Online Security'].mode()[0], inplace=True)"
   ]
  },
  {
   "cell_type": "code",
   "execution_count": null,
   "id": "c0d03959",
   "metadata": {},
   "outputs": [],
   "source": []
  },
  {
   "cell_type": "code",
   "execution_count": 23,
   "id": "9b5c68db",
   "metadata": {},
   "outputs": [],
   "source": [
    "# Fill missing values in numerical columns with the median because there are outliers in our data\n",
    "\n",
    "Customer_data['Avg Monthly Long Distance Charges'].fillna(Customer_data['Avg Monthly Long Distance Charges'].median(),\n",
    "                                                          inplace=True)"
   ]
  },
  {
   "cell_type": "code",
   "execution_count": 24,
   "id": "0e641044",
   "metadata": {},
   "outputs": [],
   "source": [
    "Customer_data['Avg Monthly GB Download'].fillna(Customer_data['Avg Monthly GB Download'].median(),\n",
    "                                                          inplace=True)"
   ]
  },
  {
   "cell_type": "code",
   "execution_count": null,
   "id": "af6f5521",
   "metadata": {},
   "outputs": [],
   "source": []
  },
  {
   "cell_type": "code",
   "execution_count": 25,
   "id": "8f281c6c",
   "metadata": {},
   "outputs": [
    {
     "data": {
      "text/plain": [
       "Customer ID                          0\n",
       "Gender                               0\n",
       "Age                                  0\n",
       "Married                              0\n",
       "Number of Dependents                 0\n",
       "City                                 0\n",
       "Zip Code                             0\n",
       "Latitude                             0\n",
       "Longitude                            0\n",
       "Number of Referrals                  0\n",
       "Tenure in Months                     0\n",
       "Offer                                0\n",
       "Phone Service                        0\n",
       "Avg Monthly Long Distance Charges    0\n",
       "Multiple Lines                       0\n",
       "Internet Service                     0\n",
       "Internet Type                        0\n",
       "Avg Monthly GB Download              0\n",
       "Online Security                      0\n",
       "Online Backup                        0\n",
       "Device Protection Plan               0\n",
       "Premium Tech Support                 0\n",
       "Streaming TV                         0\n",
       "Streaming Movies                     0\n",
       "Streaming Music                      0\n",
       "Unlimited Data                       0\n",
       "Contract                             0\n",
       "Paperless Billing                    0\n",
       "Payment Method                       0\n",
       "Monthly Charge                       0\n",
       "Total Charges                        0\n",
       "Total Refunds                        0\n",
       "Total Extra Data Charges             0\n",
       "Total Long Distance Charges          0\n",
       "Total Revenue                        0\n",
       "Customer Status                      0\n",
       "Churn Category                       0\n",
       "Churn Reason                         0\n",
       "dtype: int64"
      ]
     },
     "execution_count": 25,
     "metadata": {},
     "output_type": "execute_result"
    }
   ],
   "source": [
    "# Let's check if there is missing values were successfully replaced\n",
    "\n",
    "Customer_data.isnull().sum()"
   ]
  },
  {
   "cell_type": "markdown",
   "id": "ffc87045",
   "metadata": {},
   "source": [
    "### Our data is clean because the null values has all been replaced with their mode and mean values."
   ]
  },
  {
   "cell_type": "code",
   "execution_count": null,
   "id": "f9b94d67",
   "metadata": {},
   "outputs": [],
   "source": []
  },
  {
   "cell_type": "code",
   "execution_count": 26,
   "id": "7834046f",
   "metadata": {},
   "outputs": [
    {
     "data": {
      "text/plain": [
       "0"
      ]
     },
     "execution_count": 26,
     "metadata": {},
     "output_type": "execute_result"
    }
   ],
   "source": [
    "# Let's check for duplicates in the data\n",
    "\n",
    "Customer_data.duplicated().sum()"
   ]
  },
  {
   "cell_type": "markdown",
   "id": "48c94029",
   "metadata": {},
   "source": [
    "### There is no duplicate found in our data."
   ]
  },
  {
   "cell_type": "code",
   "execution_count": null,
   "id": "f8df9ee6",
   "metadata": {},
   "outputs": [],
   "source": []
  },
  {
   "cell_type": "markdown",
   "id": "e6be89be",
   "metadata": {},
   "source": [
    "# OUTLIER DETECTION"
   ]
  },
  {
   "cell_type": "code",
   "execution_count": null,
   "id": "d7060b6c",
   "metadata": {},
   "outputs": [],
   "source": []
  },
  {
   "cell_type": "code",
   "execution_count": 27,
   "id": "4c909d3f",
   "metadata": {},
   "outputs": [
    {
     "name": "stderr",
     "output_type": "stream",
     "text": [
      "C:\\Users\\LENOVO USER\\anaconda3\\lib\\site-packages\\seaborn\\_decorators.py:36: FutureWarning: Pass the following variable as a keyword arg: x. From version 0.12, the only valid positional argument will be `data`, and passing other arguments without an explicit keyword will result in an error or misinterpretation.\n",
      "  warnings.warn(\n"
     ]
    },
    {
     "data": {
      "text/plain": [
       "<AxesSubplot:xlabel='Number of Referrals'>"
      ]
     },
     "execution_count": 27,
     "metadata": {},
     "output_type": "execute_result"
    },
    {
     "data": {
      "image/png": "[encoded data removed]",
      "text/plain": [
       "<Figure size 432x288 with 1 Axes>"
      ]
     },
     "metadata": {},
     "output_type": "display_data"
    }
   ],
   "source": [
    "sns.boxplot(Customer_data['Number of Referrals'])"
   ]
  },
  {
   "cell_type": "code",
   "execution_count": 28,
   "id": "2016b3ad",
   "metadata": {},
   "outputs": [
    {
     "name": "stderr",
     "output_type": "stream",
     "text": [
      "C:\\Users\\LENOVO USER\\anaconda3\\lib\\site-packages\\seaborn\\_decorators.py:36: FutureWarning: Pass the following variable as a keyword arg: x. From version 0.12, the only valid positional argument will be `data`, and passing other arguments without an explicit keyword will result in an error or misinterpretation.\n",
      "  warnings.warn(\n"
     ]
    },
    {
     "data": {
      "text/plain": [
       "<AxesSubplot:xlabel='Avg Monthly GB Download'>"
      ]
     },
     "execution_count": 28,
     "metadata": {},
     "output_type": "execute_result"
    },
    {
     "data": {
      "image/png": "[encoded data removed]",
      "text/plain": [
       "<Figure size 432x288 with 1 Axes>"
      ]
     },
     "metadata": {},
     "output_type": "display_data"
    }
   ],
   "source": [
    "sns.boxplot(Customer_data['Avg Monthly GB Download'])"
   ]
  },
  {
   "cell_type": "code",
   "execution_count": 29,
   "id": "b65efa60",
   "metadata": {},
   "outputs": [
    {
     "name": "stderr",
     "output_type": "stream",
     "text": [
      "C:\\Users\\LENOVO USER\\anaconda3\\lib\\site-packages\\seaborn\\_decorators.py:36: FutureWarning: Pass the following variable as a keyword arg: x. From version 0.12, the only valid positional argument will be `data`, and passing other arguments without an explicit keyword will result in an error or misinterpretation.\n",
      "  warnings.warn(\n"
     ]
    },
    {
     "data": {
      "text/plain": [
       "<AxesSubplot:xlabel='Total Long Distance Charges'>"
      ]
     },
     "execution_count": 29,
     "metadata": {},
     "output_type": "execute_result"
    },
    {
     "data": {
      "image/png": "[encoded data removed]",
      "text/plain": [
       "<Figure size 432x288 with 1 Axes>"
      ]
     },
     "metadata": {},
     "output_type": "display_data"
    }
   ],
   "source": [
    "sns.boxplot(Customer_data['Total Long Distance Charges'])"
   ]
  },
  {
   "cell_type": "code",
   "execution_count": 30,
   "id": "453c3191",
   "metadata": {},
   "outputs": [
    {
     "name": "stderr",
     "output_type": "stream",
     "text": [
      "C:\\Users\\LENOVO USER\\anaconda3\\lib\\site-packages\\seaborn\\_decorators.py:36: FutureWarning: Pass the following variable as a keyword arg: x. From version 0.12, the only valid positional argument will be `data`, and passing other arguments without an explicit keyword will result in an error or misinterpretation.\n",
      "  warnings.warn(\n"
     ]
    },
    {
     "data": {
      "text/plain": [
       "<AxesSubplot:xlabel='Total Revenue'>"
      ]
     },
     "execution_count": 30,
     "metadata": {},
     "output_type": "execute_result"
    },
    {
     "data": {
      "image/png": "[encoded data removed]",
      "text/plain": [
       "<Figure size 432x288 with 1 Axes>"
      ]
     },
     "metadata": {},
     "output_type": "display_data"
    }
   ],
   "source": [
    "sns.boxplot(Customer_data['Total Revenue'])"
   ]
  },
  {
   "cell_type": "code",
   "execution_count": null,
   "id": "8b123f36",
   "metadata": {},
   "outputs": [],
   "source": []
  },
  {
   "cell_type": "markdown",
   "id": "b15ea791",
   "metadata": {},
   "source": [
    "# OUTLIER REMOVAL"
   ]
  },
  {
   "cell_type": "code",
   "execution_count": null,
   "id": "a32a90fa",
   "metadata": {},
   "outputs": [],
   "source": []
  },
  {
   "cell_type": "code",
   "execution_count": 31,
   "id": "b7637c30",
   "metadata": {},
   "outputs": [],
   "source": [
    "# We are going to remove the outliers in Number of Referrals column\n",
    "\n",
    "# Calculate the IQR\n",
    "Q1 = Customer_data['Number of Referrals'].quantile(0.25)\n",
    "Q3 = Customer_data['Number of Referrals'].quantile(0.75)\n",
    "IQR = Q3 - Q1\n",
    "\n",
    "# Define the lower and upper bounds for outliers\n",
    "lower_bound = Q1 - 1.5 * IQR\n",
    "upper_bound = Q3 + 1.5 * IQR\n",
    "\n",
    "# Remove outliers\n",
    "Customer_data = Customer_data[(Customer_data['Number of Referrals'] >= lower_bound)\n",
    "                          & (Customer_data['Number of Referrals'] <= upper_bound)]"
   ]
  },
  {
   "cell_type": "code",
   "execution_count": 33,
   "id": "ce2a242c",
   "metadata": {},
   "outputs": [],
   "source": [
    "# We are going to remove the outliers in Avg Monthly GB Download column\n",
    "\n",
    "# Calculate the IQR\n",
    "Q1 = Customer_data['Avg Monthly GB Download'].quantile(0.25)\n",
    "Q3 = Customer_data['Avg Monthly GB Download'].quantile(0.75)\n",
    "IQR = Q3 - Q1\n",
    "\n",
    "# Define the lower and upper bounds for outliers\n",
    "lower_bound = Q1 - 1.5 * IQR\n",
    "upper_bound = Q3 + 1.5 * IQR\n",
    "\n",
    "# Remove outliers\n",
    "Customer_data = Customer_data[(Customer_data['Avg Monthly GB Download'] >= lower_bound)\n",
    "                              & (Customer_data['Avg Monthly GB Download'] <= upper_bound)]"
   ]
  },
  {
   "cell_type": "code",
   "execution_count": 34,
   "id": "26d92056",
   "metadata": {},
   "outputs": [],
   "source": [
    "# We are going to remove the outliers in Total Long Distance Charges column\n",
    "\n",
    "# Calculate the IQR\n",
    "Q1 = Customer_data['Total Long Distance Charges'].quantile(0.25)\n",
    "Q3 = Customer_data['Total Long Distance Charges'].quantile(0.75)\n",
    "IQR = Q3 - Q1\n",
    "\n",
    "# Define the lower and upper bounds for outliers\n",
    "lower_bound = Q1 - 1.5 * IQR\n",
    "upper_bound = Q3 + 1.5 * IQR\n",
    "\n",
    "# Remove outliers\n",
    "Customer_data = Customer_data[(Customer_data['Total Long Distance Charges'] >= lower_bound)\n",
    "                              & (Customer_data['Total Long Distance Charges'] <= upper_bound)]"
   ]
  },
  {
   "cell_type": "code",
   "execution_count": 35,
   "id": "27ef489a",
   "metadata": {},
   "outputs": [],
   "source": [
    "# We are going to remove the outliers in Total Revenue column\n",
    "\n",
    "# Calculate the IQR\n",
    "Q1 = Customer_data['Total Revenue'].quantile(0.25)\n",
    "Q3 = Customer_data['Total Revenue'].quantile(0.75)\n",
    "IQR = Q3 - Q1\n",
    "\n",
    "# Define the lower and upper bounds for outliers\n",
    "lower_bound = Q1 - 1.5 * IQR\n",
    "upper_bound = Q3 + 1.5 * IQR\n",
    "\n",
    "# Remove outliers\n",
    "Customer_data = Customer_data[(Customer_data['Total Revenue'] >= lower_bound)\n",
    "                              & (Customer_data['Total Revenue'] <= upper_bound)]"
   ]
  },
  {
   "cell_type": "code",
   "execution_count": null,
   "id": "8d1baa0b",
   "metadata": {},
   "outputs": [],
   "source": []
  },
  {
   "cell_type": "markdown",
   "id": "20d74243",
   "metadata": {},
   "source": [
    "# Let's Get The Statistics of the Dataset"
   ]
  },
  {
   "cell_type": "code",
   "execution_count": 36,
   "id": "07d1b6ae",
   "metadata": {},
   "outputs": [
    {
     "data": {
      "text/html": [
       "<div>\n",
       "<style scoped>\n",
       "    .dataframe tbody tr th:only-of-type {\n",
       "        vertical-align: middle;\n",
       "    }\n",
       "\n",
       "    .dataframe tbody tr th {\n",
       "        vertical-align: top;\n",
       "    }\n",
       "\n",
       "    .dataframe thead th {\n",
       "        text-align: right;\n",
       "    }\n",
       "</style>\n",
       "<table border=\"1\" class=\"dataframe\">\n",
       "  <thead>\n",
       "    <tr style=\"text-align: right;\">\n",
       "      <th></th>\n",
       "      <th>Age</th>\n",
       "      <th>Number of Dependents</th>\n",
       "      <th>Zip Code</th>\n",
       "      <th>Latitude</th>\n",
       "      <th>Longitude</th>\n",
       "      <th>Number of Referrals</th>\n",
       "      <th>Tenure in Months</th>\n",
       "      <th>Avg Monthly Long Distance Charges</th>\n",
       "      <th>Avg Monthly GB Download</th>\n",
       "      <th>Monthly Charge</th>\n",
       "      <th>Total Charges</th>\n",
       "      <th>Total Refunds</th>\n",
       "      <th>Total Extra Data Charges</th>\n",
       "      <th>Total Long Distance Charges</th>\n",
       "      <th>Total Revenue</th>\n",
       "    </tr>\n",
       "  </thead>\n",
       "  <tbody>\n",
       "    <tr>\n",
       "      <th>count</th>\n",
       "      <td>5012.000000</td>\n",
       "      <td>5012.000000</td>\n",
       "      <td>5012.000000</td>\n",
       "      <td>5012.000000</td>\n",
       "      <td>5012.000000</td>\n",
       "      <td>5012.000000</td>\n",
       "      <td>5012.000000</td>\n",
       "      <td>5012.000000</td>\n",
       "      <td>5012.000000</td>\n",
       "      <td>5012.000000</td>\n",
       "      <td>5012.000000</td>\n",
       "      <td>5012.000000</td>\n",
       "      <td>5012.000000</td>\n",
       "      <td>5012.000000</td>\n",
       "      <td>5012.000000</td>\n",
       "    </tr>\n",
       "    <tr>\n",
       "      <th>mean</th>\n",
       "      <td>50.396049</td>\n",
       "      <td>0.344972</td>\n",
       "      <td>93492.404828</td>\n",
       "      <td>36.201261</td>\n",
       "      <td>-119.766988</td>\n",
       "      <td>1.096967</td>\n",
       "      <td>28.492418</td>\n",
       "      <td>24.383713</td>\n",
       "      <td>18.005188</td>\n",
       "      <td>60.030098</td>\n",
       "      <td>1860.660932</td>\n",
       "      <td>1.924190</td>\n",
       "      <td>6.163208</td>\n",
       "      <td>595.415072</td>\n",
       "      <td>2460.315022</td>\n",
       "    </tr>\n",
       "    <tr>\n",
       "      <th>std</th>\n",
       "      <td>15.197528</td>\n",
       "      <td>0.809609</td>\n",
       "      <td>1852.966061</td>\n",
       "      <td>2.460675</td>\n",
       "      <td>2.143665</td>\n",
       "      <td>1.939767</td>\n",
       "      <td>23.113987</td>\n",
       "      <td>13.257010</td>\n",
       "      <td>7.313897</td>\n",
       "      <td>31.057021</td>\n",
       "      <td>1959.020170</td>\n",
       "      <td>7.829913</td>\n",
       "      <td>23.672576</td>\n",
       "      <td>673.610471</td>\n",
       "      <td>2391.299368</td>\n",
       "    </tr>\n",
       "    <tr>\n",
       "      <th>min</th>\n",
       "      <td>19.000000</td>\n",
       "      <td>0.000000</td>\n",
       "      <td>90001.000000</td>\n",
       "      <td>32.555828</td>\n",
       "      <td>-124.301372</td>\n",
       "      <td>0.000000</td>\n",
       "      <td>1.000000</td>\n",
       "      <td>1.010000</td>\n",
       "      <td>2.000000</td>\n",
       "      <td>-10.000000</td>\n",
       "      <td>18.850000</td>\n",
       "      <td>0.000000</td>\n",
       "      <td>0.000000</td>\n",
       "      <td>0.000000</td>\n",
       "      <td>21.360000</td>\n",
       "    </tr>\n",
       "    <tr>\n",
       "      <th>25%</th>\n",
       "      <td>39.000000</td>\n",
       "      <td>0.000000</td>\n",
       "      <td>92091.000000</td>\n",
       "      <td>33.993597</td>\n",
       "      <td>-121.785559</td>\n",
       "      <td>0.000000</td>\n",
       "      <td>7.000000</td>\n",
       "      <td>13.400000</td>\n",
       "      <td>13.000000</td>\n",
       "      <td>24.950000</td>\n",
       "      <td>298.100000</td>\n",
       "      <td>0.000000</td>\n",
       "      <td>0.000000</td>\n",
       "      <td>51.202500</td>\n",
       "      <td>457.095000</td>\n",
       "    </tr>\n",
       "    <tr>\n",
       "      <th>50%</th>\n",
       "      <td>50.000000</td>\n",
       "      <td>0.000000</td>\n",
       "      <td>93520.000000</td>\n",
       "      <td>36.186867</td>\n",
       "      <td>-119.649687</td>\n",
       "      <td>0.000000</td>\n",
       "      <td>24.000000</td>\n",
       "      <td>25.690000</td>\n",
       "      <td>21.000000</td>\n",
       "      <td>65.975000</td>\n",
       "      <td>1102.825000</td>\n",
       "      <td>0.000000</td>\n",
       "      <td>0.000000</td>\n",
       "      <td>319.725000</td>\n",
       "      <td>1644.630000</td>\n",
       "    </tr>\n",
       "    <tr>\n",
       "      <th>75%</th>\n",
       "      <td>62.000000</td>\n",
       "      <td>0.000000</td>\n",
       "      <td>95327.000000</td>\n",
       "      <td>38.183918</td>\n",
       "      <td>-117.991372</td>\n",
       "      <td>1.000000</td>\n",
       "      <td>48.000000</td>\n",
       "      <td>34.632500</td>\n",
       "      <td>22.000000</td>\n",
       "      <td>86.012500</td>\n",
       "      <td>2884.350000</td>\n",
       "      <td>0.000000</td>\n",
       "      <td>0.000000</td>\n",
       "      <td>953.025000</td>\n",
       "      <td>3786.282500</td>\n",
       "    </tr>\n",
       "    <tr>\n",
       "      <th>max</th>\n",
       "      <td>80.000000</td>\n",
       "      <td>7.000000</td>\n",
       "      <td>96150.000000</td>\n",
       "      <td>41.962127</td>\n",
       "      <td>-114.192901</td>\n",
       "      <td>7.000000</td>\n",
       "      <td>72.000000</td>\n",
       "      <td>49.990000</td>\n",
       "      <td>30.000000</td>\n",
       "      <td>118.600000</td>\n",
       "      <td>8564.750000</td>\n",
       "      <td>49.790000</td>\n",
       "      <td>150.000000</td>\n",
       "      <td>2698.920000</td>\n",
       "      <td>9151.650000</td>\n",
       "    </tr>\n",
       "  </tbody>\n",
       "</table>\n",
       "</div>"
      ],
      "text/plain": [
       "               Age  Number of Dependents      Zip Code     Latitude  \\\n",
       "count  5012.000000           5012.000000   5012.000000  5012.000000   \n",
       "mean     50.396049              0.344972  93492.404828    36.201261   \n",
       "std      15.197528              0.809609   1852.966061     2.460675   \n",
       "min      19.000000              0.000000  90001.000000    32.555828   \n",
       "25%      39.000000              0.000000  92091.000000    33.993597   \n",
       "50%      50.000000              0.000000  93520.000000    36.186867   \n",
       "75%      62.000000              0.000000  95327.000000    38.183918   \n",
       "max      80.000000              7.000000  96150.000000    41.962127   \n",
       "\n",
       "         Longitude  Number of Referrals  Tenure in Months  \\\n",
       "count  5012.000000          5012.000000       5012.000000   \n",
       "mean   -119.766988             1.096967         28.492418   \n",
       "std       2.143665             1.939767         23.113987   \n",
       "min    -124.301372             0.000000          1.000000   \n",
       "25%    -121.785559             0.000000          7.000000   \n",
       "50%    -119.649687             0.000000         24.000000   \n",
       "75%    -117.991372             1.000000         48.000000   \n",
       "max    -114.192901             7.000000         72.000000   \n",
       "\n",
       "       Avg Monthly Long Distance Charges  Avg Monthly GB Download  \\\n",
       "count                        5012.000000              5012.000000   \n",
       "mean                           24.383713                18.005188   \n",
       "std                            13.257010                 7.313897   \n",
       "min                             1.010000                 2.000000   \n",
       "25%                            13.400000                13.000000   \n",
       "50%                            25.690000                21.000000   \n",
       "75%                            34.632500                22.000000   \n",
       "max                            49.990000                30.000000   \n",
       "\n",
       "       Monthly Charge  Total Charges  Total Refunds  Total Extra Data Charges  \\\n",
       "count     5012.000000    5012.000000    5012.000000               5012.000000   \n",
       "mean        60.030098    1860.660932       1.924190                  6.163208   \n",
       "std         31.057021    1959.020170       7.829913                 23.672576   \n",
       "min        -10.000000      18.850000       0.000000                  0.000000   \n",
       "25%         24.950000     298.100000       0.000000                  0.000000   \n",
       "50%         65.975000    1102.825000       0.000000                  0.000000   \n",
       "75%         86.012500    2884.350000       0.000000                  0.000000   \n",
       "max        118.600000    8564.750000      49.790000                150.000000   \n",
       "\n",
       "       Total Long Distance Charges  Total Revenue  \n",
       "count                  5012.000000    5012.000000  \n",
       "mean                    595.415072    2460.315022  \n",
       "std                     673.610471    2391.299368  \n",
       "min                       0.000000      21.360000  \n",
       "25%                      51.202500     457.095000  \n",
       "50%                     319.725000    1644.630000  \n",
       "75%                     953.025000    3786.282500  \n",
       "max                    2698.920000    9151.650000  "
      ]
     },
     "execution_count": 36,
     "metadata": {},
     "output_type": "execute_result"
    }
   ],
   "source": [
    "Customer_data.describe()"
   ]
  },
  {
   "cell_type": "markdown",
   "id": "3601cf18",
   "metadata": {},
   "source": [
    "### The average age of the Telecom customers is 50 years. The minimum years is 19 and the maximum years is 80.\n",
    "\n",
    "### The average tenure in months is 28 months. The minimum month is 1 and maximum is 72 months.\n",
    "\n",
    "### The average monthly GB download is 18gb. The minimum is 2gb and the maximum is 30gb.\n",
    "\n",
    "### The average total charges 1860 dollars. The minimum total charges is 18 dollars and the maximum toatl charges is 8564 dollars.\n",
    "\n",
    "### The average total long distance charges 24 dollars. The maxmum total long distance charges is 49 dollars."
   ]
  },
  {
   "cell_type": "code",
   "execution_count": null,
   "id": "477e8987",
   "metadata": {},
   "outputs": [],
   "source": []
  },
  {
   "cell_type": "code",
   "execution_count": 37,
   "id": "13661880",
   "metadata": {},
   "outputs": [
    {
     "data": {
      "text/html": [
       "<div>\n",
       "<style scoped>\n",
       "    .dataframe tbody tr th:only-of-type {\n",
       "        vertical-align: middle;\n",
       "    }\n",
       "\n",
       "    .dataframe tbody tr th {\n",
       "        vertical-align: top;\n",
       "    }\n",
       "\n",
       "    .dataframe thead th {\n",
       "        text-align: right;\n",
       "    }\n",
       "</style>\n",
       "<table border=\"1\" class=\"dataframe\">\n",
       "  <thead>\n",
       "    <tr style=\"text-align: right;\">\n",
       "      <th></th>\n",
       "      <th>Customer ID</th>\n",
       "      <th>Gender</th>\n",
       "      <th>Married</th>\n",
       "      <th>City</th>\n",
       "      <th>Offer</th>\n",
       "      <th>Phone Service</th>\n",
       "      <th>Multiple Lines</th>\n",
       "      <th>Internet Service</th>\n",
       "      <th>Internet Type</th>\n",
       "      <th>Online Security</th>\n",
       "      <th>Online Backup</th>\n",
       "      <th>Device Protection Plan</th>\n",
       "      <th>Premium Tech Support</th>\n",
       "      <th>Streaming TV</th>\n",
       "      <th>Streaming Movies</th>\n",
       "      <th>Streaming Music</th>\n",
       "      <th>Unlimited Data</th>\n",
       "      <th>Contract</th>\n",
       "      <th>Paperless Billing</th>\n",
       "      <th>Payment Method</th>\n",
       "      <th>Customer Status</th>\n",
       "      <th>Churn Category</th>\n",
       "      <th>Churn Reason</th>\n",
       "    </tr>\n",
       "  </thead>\n",
       "  <tbody>\n",
       "    <tr>\n",
       "      <th>count</th>\n",
       "      <td>5012</td>\n",
       "      <td>5012</td>\n",
       "      <td>5012</td>\n",
       "      <td>5012</td>\n",
       "      <td>5012</td>\n",
       "      <td>5012</td>\n",
       "      <td>5012</td>\n",
       "      <td>5012</td>\n",
       "      <td>5012</td>\n",
       "      <td>5012</td>\n",
       "      <td>5012</td>\n",
       "      <td>5012</td>\n",
       "      <td>5012</td>\n",
       "      <td>5012</td>\n",
       "      <td>5012</td>\n",
       "      <td>5012</td>\n",
       "      <td>5012</td>\n",
       "      <td>5012</td>\n",
       "      <td>5012</td>\n",
       "      <td>5012</td>\n",
       "      <td>5012</td>\n",
       "      <td>5012</td>\n",
       "      <td>5012</td>\n",
       "    </tr>\n",
       "    <tr>\n",
       "      <th>unique</th>\n",
       "      <td>5012</td>\n",
       "      <td>2</td>\n",
       "      <td>2</td>\n",
       "      <td>1097</td>\n",
       "      <td>6</td>\n",
       "      <td>2</td>\n",
       "      <td>2</td>\n",
       "      <td>2</td>\n",
       "      <td>3</td>\n",
       "      <td>2</td>\n",
       "      <td>2</td>\n",
       "      <td>2</td>\n",
       "      <td>2</td>\n",
       "      <td>2</td>\n",
       "      <td>2</td>\n",
       "      <td>2</td>\n",
       "      <td>2</td>\n",
       "      <td>3</td>\n",
       "      <td>2</td>\n",
       "      <td>3</td>\n",
       "      <td>3</td>\n",
       "      <td>5</td>\n",
       "      <td>20</td>\n",
       "    </tr>\n",
       "    <tr>\n",
       "      <th>top</th>\n",
       "      <td>0002-ORFBO</td>\n",
       "      <td>Male</td>\n",
       "      <td>No</td>\n",
       "      <td>San Diego</td>\n",
       "      <td>None</td>\n",
       "      <td>Yes</td>\n",
       "      <td>No</td>\n",
       "      <td>Yes</td>\n",
       "      <td>Fiber Optic</td>\n",
       "      <td>No</td>\n",
       "      <td>No</td>\n",
       "      <td>No</td>\n",
       "      <td>No</td>\n",
       "      <td>No</td>\n",
       "      <td>No</td>\n",
       "      <td>No</td>\n",
       "      <td>Yes</td>\n",
       "      <td>Month-to-Month</td>\n",
       "      <td>Yes</td>\n",
       "      <td>Bank Withdrawal</td>\n",
       "      <td>Stayed</td>\n",
       "      <td>Competitor</td>\n",
       "      <td>Competitor had better devices</td>\n",
       "    </tr>\n",
       "    <tr>\n",
       "      <th>freq</th>\n",
       "      <td>1</td>\n",
       "      <td>2531</td>\n",
       "      <td>3016</td>\n",
       "      <td>210</td>\n",
       "      <td>2822</td>\n",
       "      <td>4538</td>\n",
       "      <td>3053</td>\n",
       "      <td>3716</td>\n",
       "      <td>3363</td>\n",
       "      <td>3852</td>\n",
       "      <td>3557</td>\n",
       "      <td>3542</td>\n",
       "      <td>3803</td>\n",
       "      <td>3325</td>\n",
       "      <td>3295</td>\n",
       "      <td>3591</td>\n",
       "      <td>4492</td>\n",
       "      <td>2805</td>\n",
       "      <td>2883</td>\n",
       "      <td>2774</td>\n",
       "      <td>3104</td>\n",
       "      <td>4156</td>\n",
       "      <td>3740</td>\n",
       "    </tr>\n",
       "  </tbody>\n",
       "</table>\n",
       "</div>"
      ],
      "text/plain": [
       "       Customer ID Gender Married       City Offer Phone Service  \\\n",
       "count         5012   5012    5012       5012  5012          5012   \n",
       "unique        5012      2       2       1097     6             2   \n",
       "top     0002-ORFBO   Male      No  San Diego  None           Yes   \n",
       "freq             1   2531    3016        210  2822          4538   \n",
       "\n",
       "       Multiple Lines Internet Service Internet Type Online Security  \\\n",
       "count            5012             5012          5012            5012   \n",
       "unique              2                2             3               2   \n",
       "top                No              Yes   Fiber Optic              No   \n",
       "freq             3053             3716          3363            3852   \n",
       "\n",
       "       Online Backup Device Protection Plan Premium Tech Support Streaming TV  \\\n",
       "count           5012                   5012                 5012         5012   \n",
       "unique             2                      2                    2            2   \n",
       "top               No                     No                   No           No   \n",
       "freq            3557                   3542                 3803         3325   \n",
       "\n",
       "       Streaming Movies Streaming Music Unlimited Data        Contract  \\\n",
       "count              5012            5012           5012            5012   \n",
       "unique                2               2              2               3   \n",
       "top                  No              No            Yes  Month-to-Month   \n",
       "freq               3295            3591           4492            2805   \n",
       "\n",
       "       Paperless Billing   Payment Method Customer Status Churn Category  \\\n",
       "count               5012             5012            5012           5012   \n",
       "unique                 2                3               3              5   \n",
       "top                  Yes  Bank Withdrawal          Stayed     Competitor   \n",
       "freq                2883             2774            3104           4156   \n",
       "\n",
       "                         Churn Reason  \n",
       "count                            5012  \n",
       "unique                             20  \n",
       "top     Competitor had better devices  \n",
       "freq                             3740  "
      ]
     },
     "execution_count": 37,
     "metadata": {},
     "output_type": "execute_result"
    }
   ],
   "source": [
    "Customer_data.describe(include='object')"
   ]
  },
  {
   "cell_type": "code",
   "execution_count": null,
   "id": "5b18f0e9",
   "metadata": {},
   "outputs": [],
   "source": []
  },
  {
   "cell_type": "markdown",
   "id": "3b988627",
   "metadata": {},
   "source": [
    "### The top Telecom customer in our data is Male.\n",
    "\n",
    "### The top city in the data is San Diego.\n",
    "\n",
    "### Most customers in the data are not married."
   ]
  },
  {
   "cell_type": "code",
   "execution_count": null,
   "id": "a302db38",
   "metadata": {},
   "outputs": [],
   "source": []
  },
  {
   "cell_type": "markdown",
   "id": "a705bb10",
   "metadata": {},
   "source": [
    "# Exploratory Data Exploratory"
   ]
  },
  {
   "cell_type": "code",
   "execution_count": null,
   "id": "0fe2dad0",
   "metadata": {},
   "outputs": [],
   "source": []
  },
  {
   "cell_type": "markdown",
   "id": "ac110ac2",
   "metadata": {},
   "source": [
    "# Univariate Analysis"
   ]
  },
  {
   "cell_type": "code",
   "execution_count": 38,
   "id": "c9c49fb8",
   "metadata": {},
   "outputs": [
    {
     "data": {
      "text/plain": [
       "Stayed     3104\n",
       "Churned    1533\n",
       "Joined      375\n",
       "Name: Customer Status, dtype: int64"
      ]
     },
     "execution_count": 38,
     "metadata": {},
     "output_type": "execute_result"
    }
   ],
   "source": [
    "# let’s have a look at the distribution of the Customer status column\n",
    "\n",
    "Customer_data['Customer Status'].value_counts()"
   ]
  },
  {
   "cell_type": "code",
   "execution_count": 39,
   "id": "e9db60af",
   "metadata": {},
   "outputs": [
    {
     "data": {
      "image/png": "[encoded data removed]",
      "text/plain": [
       "<Figure size 720x720 with 1 Axes>"
      ]
     },
     "metadata": {},
     "output_type": "display_data"
    }
   ],
   "source": [
    "# Let's visualize the distribution of the Customer status column\n",
    "\n",
    "Customer_data['Customer Status'].value_counts().plot(kind='pie', figsize=(10,10), autopct= '%1.1f%%',\n",
    "                                                     title = 'Customer Status', fontsize=15)\n",
    "plt.show()"
   ]
  },
  {
   "cell_type": "markdown",
   "id": "3b533330",
   "metadata": {},
   "source": [
    "### Looking at the customer status in our data, you can clearly that 62% of the customers stayed, 8% joined and 31% of the customers left."
   ]
  },
  {
   "cell_type": "code",
   "execution_count": null,
   "id": "9928db71",
   "metadata": {},
   "outputs": [],
   "source": []
  },
  {
   "cell_type": "code",
   "execution_count": 40,
   "id": "12f6664e",
   "metadata": {},
   "outputs": [
    {
     "data": {
      "text/plain": [
       "Bank Withdrawal    2774\n",
       "Credit Card        1933\n",
       "Mailed Check        305\n",
       "Name: Payment Method, dtype: int64"
      ]
     },
     "execution_count": 40,
     "metadata": {},
     "output_type": "execute_result"
    }
   ],
   "source": [
    "# let’s have a look at the distribution of the Payment Method column\n",
    "\n",
    "Customer_data['Payment Method'].value_counts()"
   ]
  },
  {
   "cell_type": "code",
   "execution_count": 41,
   "id": "5d3cf6a7",
   "metadata": {},
   "outputs": [
    {
     "data": {
      "image/png": "[encoded data removed]",
      "text/plain": [
       "<Figure size 576x432 with 1 Axes>"
      ]
     },
     "metadata": {},
     "output_type": "display_data"
    }
   ],
   "source": [
    "# Visualize the Payment Method column\n",
    "plt.figure(figsize=(8, 6))\n",
    "ax = sns.countplot(x='Payment Method', data=Customer_data)\n",
    "plt.xlabel('Payment Method', fontsize=15)\n",
    "plt.ylabel('Count', fontsize=15)\n",
    "\n",
    "# Annotate the count values on the bars\n",
    "for bar in ax.patches:\n",
    "    ax.annotate(format(bar.get_height()), (bar.get_x() + bar.get_width() / 2, bar.get_height()),\n",
    "                ha='center', va='center', size=12, xytext=(0, 8), textcoords='offset points')\n",
    "\n",
    "plt.show()"
   ]
  },
  {
   "cell_type": "markdown",
   "id": "b0fd7236",
   "metadata": {},
   "source": [
    "### 2774 customers use Bank Withdrawal as their payment method for the phone and internet services they enjoy from the Telecom company. 1933 use Credit card as their payment method while 305 use Mailed Check for their payment method."
   ]
  },
  {
   "cell_type": "code",
   "execution_count": null,
   "id": "f937d8a7",
   "metadata": {},
   "outputs": [],
   "source": []
  },
  {
   "cell_type": "code",
   "execution_count": 42,
   "id": "4ea04bab",
   "metadata": {},
   "outputs": [
    {
     "data": {
      "text/plain": [
       "Male      2531\n",
       "Female    2481\n",
       "Name: Gender, dtype: int64"
      ]
     },
     "execution_count": 42,
     "metadata": {},
     "output_type": "execute_result"
    }
   ],
   "source": [
    "# let’s have a look at the distribution of the Gender column\n",
    "\n",
    "Customer_data['Gender'].value_counts()"
   ]
  },
  {
   "cell_type": "code",
   "execution_count": 43,
   "id": "69f19b6d",
   "metadata": {},
   "outputs": [
    {
     "data": {
      "image/png": "[encoded data removed]",
      "text/plain": [
       "<Figure size 576x432 with 1 Axes>"
      ]
     },
     "metadata": {},
     "output_type": "display_data"
    }
   ],
   "source": [
    "# Visualize the Gender column\n",
    "plt.figure(figsize=(8, 6))\n",
    "ax = sns.countplot(x='Gender', data=Customer_data)\n",
    "plt.xlabel('Gender', fontsize=15)\n",
    "plt.ylabel('Count', fontsize=15)\n",
    "\n",
    "# Annotate the count values on the bars\n",
    "for bar in ax.patches:\n",
    "    ax.annotate(format(bar.get_height()), (bar.get_x() + bar.get_width() / 2, bar.get_height()),\n",
    "                ha='center', va='center', size=12, xytext=(0, 8), textcoords='offset points')\n",
    "\n",
    "plt.show()"
   ]
  },
  {
   "cell_type": "markdown",
   "id": "5faa22c1",
   "metadata": {},
   "source": [
    "### There are 2531 and 2481 male and female who uses the phone and internet services of the Telecom company. There are more males than female."
   ]
  },
  {
   "cell_type": "code",
   "execution_count": null,
   "id": "7901bfcc",
   "metadata": {},
   "outputs": [],
   "source": []
  },
  {
   "cell_type": "markdown",
   "id": "35b205ef",
   "metadata": {},
   "source": [
    "# Bivariate Analysis"
   ]
  },
  {
   "cell_type": "code",
   "execution_count": null,
   "id": "8f500d8e",
   "metadata": {},
   "outputs": [],
   "source": []
  },
  {
   "cell_type": "code",
   "execution_count": 44,
   "id": "c4216cd2",
   "metadata": {},
   "outputs": [
    {
     "data": {
      "text/plain": [
       "Fiber Optic    3363\n",
       "DSL            1106\n",
       "Cable           543\n",
       "Name: Internet Type, dtype: int64"
      ]
     },
     "execution_count": 44,
     "metadata": {},
     "output_type": "execute_result"
    }
   ],
   "source": [
    "# let’s have a look at the distribution of the Internet Type column\n",
    "\n",
    "Customer_data['Internet Type'].value_counts()"
   ]
  },
  {
   "cell_type": "code",
   "execution_count": 45,
   "id": "d7cbad5a",
   "metadata": {},
   "outputs": [
    {
     "data": {
      "image/png": "[encoded data removed]",
      "text/plain": [
       "<Figure size 720x432 with 1 Axes>"
      ]
     },
     "metadata": {},
     "output_type": "display_data"
    }
   ],
   "source": [
    "# Let's visualize the distribution of the Internet Type column\n",
    "\n",
    "plt.figure(figsize=(10, 6))\n",
    "plots = sns.countplot(x='Internet Type', hue='Customer Status', data=Customer_data)\n",
    "plt.xlabel('Internet Type', fontsize=15)\n",
    "plt.ylabel('Count', fontsize=15)\n",
    "\n",
    "for bar in plots.patches:\n",
    "    plots.annotate(format(bar.get_height()), (bar.get_x() + bar.get_width() / 2, bar.get_height()),\n",
    "                   ha='center', va='center', size=12, xytext=(0, 8), textcoords='offset points')\n",
    "plt.show()"
   ]
  },
  {
   "cell_type": "markdown",
   "id": "57d6610b",
   "metadata": {},
   "source": [
    "### Here, the sum of 339 of the customers that use Cable as their Internet Type stayed at the Telecom company, 163 customers left and 41 customers joined the company.\n",
    "\n",
    "### The sum of 1993 of the customers that use Fiber Optic as their Internet Type stayed at the Telecom company, 1119 customers left and 251 customers joined the company.\n",
    "\n",
    "### The sum of 772 of the customers that use DSL as their Internet Type at the Telecom company, 251 customers left and 83 customers joined the company."
   ]
  },
  {
   "cell_type": "code",
   "execution_count": null,
   "id": "c481f16e",
   "metadata": {},
   "outputs": [],
   "source": []
  },
  {
   "cell_type": "code",
   "execution_count": 46,
   "id": "5f715e4f",
   "metadata": {},
   "outputs": [
    {
     "data": {
      "text/plain": [
       "No     3016\n",
       "Yes    1996\n",
       "Name: Married, dtype: int64"
      ]
     },
     "execution_count": 46,
     "metadata": {},
     "output_type": "execute_result"
    }
   ],
   "source": [
    "# let’s have a look at the distribution of the Married column\n",
    "\n",
    "Customer_data['Married'].value_counts()"
   ]
  },
  {
   "cell_type": "code",
   "execution_count": 47,
   "id": "f555b2e0",
   "metadata": {},
   "outputs": [
    {
     "data": {
      "image/png": "[encoded data removed]",
      "text/plain": [
       "<Figure size 720x432 with 1 Axes>"
      ]
     },
     "metadata": {},
     "output_type": "display_data"
    }
   ],
   "source": [
    "# Let's visualize the distribution of the Married column\n",
    "\n",
    "plt.figure(figsize=(10, 6))\n",
    "plots = sns.countplot(x='Married', hue='Customer Status', data=Customer_data)\n",
    "plt.xlabel('Married', fontsize=15)\n",
    "plt.ylabel('Count', fontsize=15)\n",
    "\n",
    "for bar in plots.patches:\n",
    "    plots.annotate(format(bar.get_height()), (bar.get_x() + bar.get_width() / 2, bar.get_height()),\n",
    "                   ha='center', va='center', size=12, xytext=(0, 8), textcoords='offset points')\n",
    "plt.show()"
   ]
  },
  {
   "cell_type": "markdown",
   "id": "a6abfb6e",
   "metadata": {},
   "source": [
    "### Here, the number of the customers that are married that stayed, joined and left the Telecom company are totals 1447, 543, and 50 respectively.\n",
    "\n",
    "### Also, the number of the customers that are not married who stayed, joined, and left the Telecom company totals the sum of 1726, 1025, and 328 respectively."
   ]
  },
  {
   "cell_type": "code",
   "execution_count": null,
   "id": "d40fb43c",
   "metadata": {},
   "outputs": [],
   "source": []
  },
  {
   "cell_type": "markdown",
   "id": "9db6d87d",
   "metadata": {},
   "source": [
    "# Multivariate Analysis"
   ]
  },
  {
   "cell_type": "markdown",
   "id": "e2136384",
   "metadata": {},
   "source": [
    "### # Correlation (Positive and Negative correlation)"
   ]
  },
  {
   "cell_type": "code",
   "execution_count": null,
   "id": "61bd7af8",
   "metadata": {},
   "outputs": [],
   "source": []
  },
  {
   "cell_type": "code",
   "execution_count": 47,
   "id": "3d6d8c26",
   "metadata": {},
   "outputs": [],
   "source": [
    "correlation = Customer_data.corr()"
   ]
  },
  {
   "cell_type": "code",
   "execution_count": 48,
   "id": "94456e2b",
   "metadata": {},
   "outputs": [
    {
     "data": {
      "image/png": "[encoded data removed]",
      "text/plain": [
       "<Figure size 1080x720 with 2 Axes>"
      ]
     },
     "metadata": {},
     "output_type": "display_data"
    }
   ],
   "source": [
    "plt.figure(figsize = (15,10))\n",
    "sns.heatmap(Customer_data.corr(), annot = True, cmap = 'RdYlGn')\n",
    "plt.title('Correlation between the columns', fontsize = 25)\n",
    "plt.show()"
   ]
  },
  {
   "cell_type": "code",
   "execution_count": null,
   "id": "d266d464",
   "metadata": {},
   "outputs": [],
   "source": []
  },
  {
   "cell_type": "markdown",
   "id": "74e57c6f",
   "metadata": {},
   "source": [
    "# Dropping The Features That Are Not Necessary For Our Prediction"
   ]
  },
  {
   "cell_type": "code",
   "execution_count": null,
   "id": "27252337",
   "metadata": {},
   "outputs": [],
   "source": []
  },
  {
   "cell_type": "code",
   "execution_count": 51,
   "id": "b20360da",
   "metadata": {},
   "outputs": [
    {
     "data": {
      "text/html": [
       "<div>\n",
       "<style scoped>\n",
       "    .dataframe tbody tr th:only-of-type {\n",
       "        vertical-align: middle;\n",
       "    }\n",
       "\n",
       "    .dataframe tbody tr th {\n",
       "        vertical-align: top;\n",
       "    }\n",
       "\n",
       "    .dataframe thead th {\n",
       "        text-align: right;\n",
       "    }\n",
       "</style>\n",
       "<table border=\"1\" class=\"dataframe\">\n",
       "  <thead>\n",
       "    <tr style=\"text-align: right;\">\n",
       "      <th></th>\n",
       "      <th>Customer ID</th>\n",
       "      <th>Gender</th>\n",
       "      <th>Age</th>\n",
       "      <th>Married</th>\n",
       "      <th>Number of Dependents</th>\n",
       "      <th>City</th>\n",
       "      <th>Zip Code</th>\n",
       "      <th>Latitude</th>\n",
       "      <th>Longitude</th>\n",
       "      <th>Number of Referrals</th>\n",
       "      <th>Tenure in Months</th>\n",
       "      <th>Offer</th>\n",
       "      <th>Phone Service</th>\n",
       "      <th>Avg Monthly Long Distance Charges</th>\n",
       "      <th>Multiple Lines</th>\n",
       "      <th>Internet Service</th>\n",
       "      <th>Internet Type</th>\n",
       "      <th>Avg Monthly GB Download</th>\n",
       "      <th>Online Security</th>\n",
       "      <th>Online Backup</th>\n",
       "      <th>Device Protection Plan</th>\n",
       "      <th>Premium Tech Support</th>\n",
       "      <th>Streaming TV</th>\n",
       "      <th>Streaming Movies</th>\n",
       "      <th>Streaming Music</th>\n",
       "      <th>Unlimited Data</th>\n",
       "      <th>Contract</th>\n",
       "      <th>Paperless Billing</th>\n",
       "      <th>Payment Method</th>\n",
       "      <th>Monthly Charge</th>\n",
       "      <th>Total Charges</th>\n",
       "      <th>Total Refunds</th>\n",
       "      <th>Total Extra Data Charges</th>\n",
       "      <th>Total Long Distance Charges</th>\n",
       "      <th>Total Revenue</th>\n",
       "      <th>Customer Status</th>\n",
       "      <th>Churn Category</th>\n",
       "      <th>Churn Reason</th>\n",
       "    </tr>\n",
       "  </thead>\n",
       "  <tbody>\n",
       "    <tr>\n",
       "      <th>0</th>\n",
       "      <td>0002-ORFBO</td>\n",
       "      <td>Female</td>\n",
       "      <td>37</td>\n",
       "      <td>Yes</td>\n",
       "      <td>0</td>\n",
       "      <td>Frazier Park</td>\n",
       "      <td>93225</td>\n",
       "      <td>34.827662</td>\n",
       "      <td>-118.999073</td>\n",
       "      <td>2</td>\n",
       "      <td>9</td>\n",
       "      <td>None</td>\n",
       "      <td>Yes</td>\n",
       "      <td>42.39</td>\n",
       "      <td>No</td>\n",
       "      <td>Yes</td>\n",
       "      <td>Cable</td>\n",
       "      <td>16.0</td>\n",
       "      <td>No</td>\n",
       "      <td>Yes</td>\n",
       "      <td>No</td>\n",
       "      <td>Yes</td>\n",
       "      <td>Yes</td>\n",
       "      <td>No</td>\n",
       "      <td>No</td>\n",
       "      <td>Yes</td>\n",
       "      <td>One Year</td>\n",
       "      <td>Yes</td>\n",
       "      <td>Credit Card</td>\n",
       "      <td>65.6</td>\n",
       "      <td>593.3</td>\n",
       "      <td>0.0</td>\n",
       "      <td>0</td>\n",
       "      <td>381.51</td>\n",
       "      <td>974.81</td>\n",
       "      <td>Stayed</td>\n",
       "      <td>Competitor</td>\n",
       "      <td>Competitor had better devices</td>\n",
       "    </tr>\n",
       "  </tbody>\n",
       "</table>\n",
       "</div>"
      ],
      "text/plain": [
       "  Customer ID  Gender  Age Married  Number of Dependents          City  \\\n",
       "0  0002-ORFBO  Female   37     Yes                     0  Frazier Park   \n",
       "\n",
       "   Zip Code   Latitude   Longitude  Number of Referrals  Tenure in Months  \\\n",
       "0     93225  34.827662 -118.999073                    2                 9   \n",
       "\n",
       "  Offer Phone Service  Avg Monthly Long Distance Charges Multiple Lines  \\\n",
       "0  None           Yes                              42.39             No   \n",
       "\n",
       "  Internet Service Internet Type  Avg Monthly GB Download Online Security  \\\n",
       "0              Yes         Cable                     16.0              No   \n",
       "\n",
       "  Online Backup Device Protection Plan Premium Tech Support Streaming TV  \\\n",
       "0           Yes                     No                  Yes          Yes   \n",
       "\n",
       "  Streaming Movies Streaming Music Unlimited Data  Contract Paperless Billing  \\\n",
       "0               No              No            Yes  One Year               Yes   \n",
       "\n",
       "  Payment Method  Monthly Charge  Total Charges  Total Refunds  \\\n",
       "0    Credit Card            65.6          593.3            0.0   \n",
       "\n",
       "   Total Extra Data Charges  Total Long Distance Charges  Total Revenue  \\\n",
       "0                         0                       381.51         974.81   \n",
       "\n",
       "  Customer Status Churn Category                   Churn Reason  \n",
       "0          Stayed     Competitor  Competitor had better devices  "
      ]
     },
     "execution_count": 51,
     "metadata": {},
     "output_type": "execute_result"
    }
   ],
   "source": [
    "# Let's view our dataset again\n",
    "\n",
    "Customer_data.head(1)"
   ]
  },
  {
   "cell_type": "code",
   "execution_count": null,
   "id": "e1b0dc6f",
   "metadata": {},
   "outputs": [],
   "source": []
  },
  {
   "cell_type": "code",
   "execution_count": 52,
   "id": "e409e2e8",
   "metadata": {},
   "outputs": [],
   "source": [
    "Customer_data.drop(\"Customer ID\", axis = 1, inplace = True)"
   ]
  },
  {
   "cell_type": "code",
   "execution_count": 53,
   "id": "38b61b1f",
   "metadata": {},
   "outputs": [],
   "source": [
    "Customer_data.drop(\"City\", axis = 1, inplace = True)"
   ]
  },
  {
   "cell_type": "code",
   "execution_count": 54,
   "id": "c2799635",
   "metadata": {},
   "outputs": [],
   "source": [
    "Customer_data.drop(\"Zip Code\", axis = 1, inplace = True)"
   ]
  },
  {
   "cell_type": "code",
   "execution_count": 55,
   "id": "a295dd7b",
   "metadata": {},
   "outputs": [],
   "source": [
    "Customer_data.drop(\"Latitude\", axis = 1, inplace = True)"
   ]
  },
  {
   "cell_type": "code",
   "execution_count": 56,
   "id": "2b6084b7",
   "metadata": {},
   "outputs": [],
   "source": [
    "Customer_data.drop(\"Longitude\", axis = 1, inplace = True)"
   ]
  },
  {
   "cell_type": "code",
   "execution_count": 57,
   "id": "9e20070f",
   "metadata": {},
   "outputs": [],
   "source": [
    "Customer_data.drop(\"Offer\", axis = 1, inplace = True)"
   ]
  },
  {
   "cell_type": "code",
   "execution_count": 58,
   "id": "961ba823",
   "metadata": {},
   "outputs": [],
   "source": [
    "Customer_data.drop(\"Churn Reason\", axis = 1, inplace = True)"
   ]
  },
  {
   "cell_type": "code",
   "execution_count": 59,
   "id": "e15ab8fb",
   "metadata": {},
   "outputs": [],
   "source": [
    "Customer_data.drop(\"Total Refunds\", axis = 1, inplace = True)"
   ]
  },
  {
   "cell_type": "code",
   "execution_count": null,
   "id": "23a30f4c",
   "metadata": {},
   "outputs": [],
   "source": []
  },
  {
   "cell_type": "code",
   "execution_count": 60,
   "id": "a9007ea6",
   "metadata": {},
   "outputs": [
    {
     "data": {
      "text/html": [
       "<div>\n",
       "<style scoped>\n",
       "    .dataframe tbody tr th:only-of-type {\n",
       "        vertical-align: middle;\n",
       "    }\n",
       "\n",
       "    .dataframe tbody tr th {\n",
       "        vertical-align: top;\n",
       "    }\n",
       "\n",
       "    .dataframe thead th {\n",
       "        text-align: right;\n",
       "    }\n",
       "</style>\n",
       "<table border=\"1\" class=\"dataframe\">\n",
       "  <thead>\n",
       "    <tr style=\"text-align: right;\">\n",
       "      <th></th>\n",
       "      <th>Gender</th>\n",
       "      <th>Age</th>\n",
       "      <th>Married</th>\n",
       "      <th>Number of Dependents</th>\n",
       "      <th>Number of Referrals</th>\n",
       "      <th>Tenure in Months</th>\n",
       "      <th>Phone Service</th>\n",
       "      <th>Avg Monthly Long Distance Charges</th>\n",
       "      <th>Multiple Lines</th>\n",
       "      <th>Internet Service</th>\n",
       "      <th>Internet Type</th>\n",
       "      <th>Avg Monthly GB Download</th>\n",
       "      <th>Online Security</th>\n",
       "      <th>Online Backup</th>\n",
       "      <th>Device Protection Plan</th>\n",
       "      <th>Premium Tech Support</th>\n",
       "      <th>Streaming TV</th>\n",
       "      <th>Streaming Movies</th>\n",
       "      <th>Streaming Music</th>\n",
       "      <th>Unlimited Data</th>\n",
       "      <th>Contract</th>\n",
       "      <th>Paperless Billing</th>\n",
       "      <th>Payment Method</th>\n",
       "      <th>Monthly Charge</th>\n",
       "      <th>Total Charges</th>\n",
       "      <th>Total Extra Data Charges</th>\n",
       "      <th>Total Long Distance Charges</th>\n",
       "      <th>Total Revenue</th>\n",
       "      <th>Customer Status</th>\n",
       "      <th>Churn Category</th>\n",
       "    </tr>\n",
       "  </thead>\n",
       "  <tbody>\n",
       "    <tr>\n",
       "      <th>0</th>\n",
       "      <td>Female</td>\n",
       "      <td>37</td>\n",
       "      <td>Yes</td>\n",
       "      <td>0</td>\n",
       "      <td>2</td>\n",
       "      <td>9</td>\n",
       "      <td>Yes</td>\n",
       "      <td>42.39</td>\n",
       "      <td>No</td>\n",
       "      <td>Yes</td>\n",
       "      <td>Cable</td>\n",
       "      <td>16.0</td>\n",
       "      <td>No</td>\n",
       "      <td>Yes</td>\n",
       "      <td>No</td>\n",
       "      <td>Yes</td>\n",
       "      <td>Yes</td>\n",
       "      <td>No</td>\n",
       "      <td>No</td>\n",
       "      <td>Yes</td>\n",
       "      <td>One Year</td>\n",
       "      <td>Yes</td>\n",
       "      <td>Credit Card</td>\n",
       "      <td>65.6</td>\n",
       "      <td>593.3</td>\n",
       "      <td>0</td>\n",
       "      <td>381.51</td>\n",
       "      <td>974.81</td>\n",
       "      <td>Stayed</td>\n",
       "      <td>Competitor</td>\n",
       "    </tr>\n",
       "  </tbody>\n",
       "</table>\n",
       "</div>"
      ],
      "text/plain": [
       "   Gender  Age Married  Number of Dependents  Number of Referrals  \\\n",
       "0  Female   37     Yes                     0                    2   \n",
       "\n",
       "   Tenure in Months Phone Service  Avg Monthly Long Distance Charges  \\\n",
       "0                 9           Yes                              42.39   \n",
       "\n",
       "  Multiple Lines Internet Service Internet Type  Avg Monthly GB Download  \\\n",
       "0             No              Yes         Cable                     16.0   \n",
       "\n",
       "  Online Security Online Backup Device Protection Plan Premium Tech Support  \\\n",
       "0              No           Yes                     No                  Yes   \n",
       "\n",
       "  Streaming TV Streaming Movies Streaming Music Unlimited Data  Contract  \\\n",
       "0          Yes               No              No            Yes  One Year   \n",
       "\n",
       "  Paperless Billing Payment Method  Monthly Charge  Total Charges  \\\n",
       "0               Yes    Credit Card            65.6          593.3   \n",
       "\n",
       "   Total Extra Data Charges  Total Long Distance Charges  Total Revenue  \\\n",
       "0                         0                       381.51         974.81   \n",
       "\n",
       "  Customer Status Churn Category  \n",
       "0          Stayed     Competitor  "
      ]
     },
     "execution_count": 60,
     "metadata": {},
     "output_type": "execute_result"
    }
   ],
   "source": [
    "# Let's check the features that were dropped successfully\n",
    "\n",
    "Customer_data.head(1)"
   ]
  },
  {
   "cell_type": "code",
   "execution_count": null,
   "id": "94b16f22",
   "metadata": {},
   "outputs": [],
   "source": []
  },
  {
   "cell_type": "markdown",
   "id": "4f7061dc",
   "metadata": {},
   "source": [
    "# Label Encoding. The categorical values will be encoded into numerical values."
   ]
  },
  {
   "cell_type": "code",
   "execution_count": null,
   "id": "08d0ed08",
   "metadata": {},
   "outputs": [],
   "source": []
  },
  {
   "cell_type": "code",
   "execution_count": 61,
   "id": "835c25be",
   "metadata": {},
   "outputs": [],
   "source": [
    "# Let's encode the Gender categorical values\n",
    "\n",
    "Customer_data.replace({'Gender': {'Female' :0, 'Male' :1}}, inplace = True)"
   ]
  },
  {
   "cell_type": "code",
   "execution_count": 62,
   "id": "2d249ab1",
   "metadata": {},
   "outputs": [],
   "source": [
    "# Let's encode the Married categorical values\n",
    "\n",
    "Customer_data.replace({'Married': {'Yes' :1, 'No' :0}}, inplace = True)"
   ]
  },
  {
   "cell_type": "code",
   "execution_count": 63,
   "id": "f83c5a45",
   "metadata": {},
   "outputs": [],
   "source": [
    "# Let's encode the Phone Services categorical values\n",
    "\n",
    "Customer_data.replace({'Phone Service': {'Yes' :0, 'No' :1}}, inplace = True)"
   ]
  },
  {
   "cell_type": "code",
   "execution_count": 64,
   "id": "e8b672c2",
   "metadata": {},
   "outputs": [],
   "source": [
    "# Let's encode the Mutliple Lines categorical values\n",
    "\n",
    "Customer_data.replace({'Multiple Lines': {'No' :1, 'Yes' :0}}, inplace = True)"
   ]
  },
  {
   "cell_type": "code",
   "execution_count": 65,
   "id": "424d9c4d",
   "metadata": {},
   "outputs": [],
   "source": [
    "# Let's encode the Internet Service categorical values\n",
    "\n",
    "Customer_data.replace({'Internet Service': {'Yes' :0, 'No' :1}}, inplace = True)"
   ]
  },
  {
   "cell_type": "code",
   "execution_count": 66,
   "id": "f0667536",
   "metadata": {},
   "outputs": [],
   "source": [
    "# Let's encode the Internet Type categorical values\n",
    "\n",
    "Customer_data.replace({'Internet Type': {'Fiber Optic' :1, 'DSL' :2, 'Cable' :3}}, inplace = True)"
   ]
  },
  {
   "cell_type": "code",
   "execution_count": 67,
   "id": "feab8eac",
   "metadata": {},
   "outputs": [],
   "source": [
    "# Let's encode the Online Security categorical values\n",
    "\n",
    "Customer_data.replace({'Online Security': {'No' :0, 'Yes' :1}}, inplace = True)"
   ]
  },
  {
   "cell_type": "code",
   "execution_count": 68,
   "id": "71322e24",
   "metadata": {},
   "outputs": [],
   "source": [
    "# Let's encode the Online Security categorical values\n",
    "\n",
    "Customer_data.replace({'Online Backup': {'Yes' :1, 'No' :0}}, inplace = True)"
   ]
  },
  {
   "cell_type": "code",
   "execution_count": 69,
   "id": "7dc799a9",
   "metadata": {},
   "outputs": [],
   "source": [
    "# Let's encode the Device Protection Plan categorical values\n",
    "\n",
    "Customer_data.replace({'Device Protection Plan': {'No' :0, 'Yes' :1}}, inplace = True)"
   ]
  },
  {
   "cell_type": "code",
   "execution_count": 70,
   "id": "a0d8555e",
   "metadata": {},
   "outputs": [],
   "source": [
    "# Let's encode the Premium Tech Support categorical values\n",
    "\n",
    "Customer_data.replace({'Premium Tech Support': {'No' :1, 'Yes' :0}}, inplace = True)"
   ]
  },
  {
   "cell_type": "code",
   "execution_count": 71,
   "id": "61a439a1",
   "metadata": {},
   "outputs": [],
   "source": [
    "# Let's encode the Streaming TV categorical values\n",
    "\n",
    "Customer_data.replace({'Streaming TV': {'No' :0, 'Yes' :1}}, inplace = True)"
   ]
  },
  {
   "cell_type": "code",
   "execution_count": 72,
   "id": "f2fc4c5f",
   "metadata": {},
   "outputs": [],
   "source": [
    "# Let's encode the Streaming Movies categorical values\n",
    "\n",
    "Customer_data.replace({'Streaming Movies': {'No' :1, 'Yes' :0}}, inplace = True)"
   ]
  },
  {
   "cell_type": "code",
   "execution_count": 73,
   "id": "97b46852",
   "metadata": {},
   "outputs": [],
   "source": [
    "# Let's encode the Streaming Music categorical values\n",
    "\n",
    "Customer_data.replace({'Streaming Music': {'No' :0, 'Yes' :1}}, inplace = True)"
   ]
  },
  {
   "cell_type": "code",
   "execution_count": 74,
   "id": "9b5ac627",
   "metadata": {},
   "outputs": [],
   "source": [
    "# Let's encode the Unlimited Data categorical values\n",
    "\n",
    "Customer_data.replace({'Unlimited Data': {'No' :1, 'Yes' :0}}, inplace = True)"
   ]
  },
  {
   "cell_type": "code",
   "execution_count": 75,
   "id": "95956c96",
   "metadata": {},
   "outputs": [],
   "source": [
    "# Let's encode the Contract categorical values\n",
    "\n",
    "Customer_data.replace({'Contract': {'Month-to-Month' :0, 'Two Year' :1, 'One Year' :2}}, inplace = True)"
   ]
  },
  {
   "cell_type": "code",
   "execution_count": 76,
   "id": "998e1f01",
   "metadata": {},
   "outputs": [],
   "source": [
    "# Let's encode the Paperless Billing categorical values\n",
    "\n",
    "Customer_data.replace({'Paperless Billing': {'Yes' :1, 'No' :2}}, inplace = True)"
   ]
  },
  {
   "cell_type": "code",
   "execution_count": 77,
   "id": "d0f22a2b",
   "metadata": {},
   "outputs": [],
   "source": [
    "# Let's encode the Payment Method categorical values\n",
    "\n",
    "Customer_data.replace({'Payment Method': {'Bank Withdrawal' :0, 'Credit Card' :1, 'Mailed Check' :2}}, inplace = True)"
   ]
  },
  {
   "cell_type": "code",
   "execution_count": 78,
   "id": "5ffa020a",
   "metadata": {},
   "outputs": [],
   "source": [
    "# Let's encode the Customer Status categorical values\n",
    "\n",
    "Customer_data.replace({'Customer Status': {'Stayed' :0, 'Churned' :1, 'Joined' :2}}, inplace = True)"
   ]
  },
  {
   "cell_type": "code",
   "execution_count": 79,
   "id": "46dada1a",
   "metadata": {},
   "outputs": [],
   "source": [
    "# Let's encode the Churn Category categorical values\n",
    "\n",
    "Customer_data.replace({'Churn Category': {'Competitor' :0, 'Dissatisfaction' :1, 'Attitude' :2,\n",
    "                                         'Price' :3, 'Other' :4}}, inplace = True)"
   ]
  },
  {
   "cell_type": "code",
   "execution_count": null,
   "id": "f1a22d4c",
   "metadata": {},
   "outputs": [],
   "source": []
  },
  {
   "cell_type": "code",
   "execution_count": 80,
   "id": "b8b814c8",
   "metadata": {},
   "outputs": [
    {
     "data": {
      "text/html": [
       "<div>\n",
       "<style scoped>\n",
       "    .dataframe tbody tr th:only-of-type {\n",
       "        vertical-align: middle;\n",
       "    }\n",
       "\n",
       "    .dataframe tbody tr th {\n",
       "        vertical-align: top;\n",
       "    }\n",
       "\n",
       "    .dataframe thead th {\n",
       "        text-align: right;\n",
       "    }\n",
       "</style>\n",
       "<table border=\"1\" class=\"dataframe\">\n",
       "  <thead>\n",
       "    <tr style=\"text-align: right;\">\n",
       "      <th></th>\n",
       "      <th>Gender</th>\n",
       "      <th>Age</th>\n",
       "      <th>Married</th>\n",
       "      <th>Number of Dependents</th>\n",
       "      <th>Number of Referrals</th>\n",
       "      <th>Tenure in Months</th>\n",
       "      <th>Phone Service</th>\n",
       "      <th>Avg Monthly Long Distance Charges</th>\n",
       "      <th>Multiple Lines</th>\n",
       "      <th>Internet Service</th>\n",
       "      <th>Internet Type</th>\n",
       "      <th>Avg Monthly GB Download</th>\n",
       "      <th>Online Security</th>\n",
       "      <th>Online Backup</th>\n",
       "      <th>Device Protection Plan</th>\n",
       "      <th>Premium Tech Support</th>\n",
       "      <th>Streaming TV</th>\n",
       "      <th>Streaming Movies</th>\n",
       "      <th>Streaming Music</th>\n",
       "      <th>Unlimited Data</th>\n",
       "      <th>Contract</th>\n",
       "      <th>Paperless Billing</th>\n",
       "      <th>Payment Method</th>\n",
       "      <th>Monthly Charge</th>\n",
       "      <th>Total Charges</th>\n",
       "      <th>Total Extra Data Charges</th>\n",
       "      <th>Total Long Distance Charges</th>\n",
       "      <th>Total Revenue</th>\n",
       "      <th>Customer Status</th>\n",
       "      <th>Churn Category</th>\n",
       "    </tr>\n",
       "  </thead>\n",
       "  <tbody>\n",
       "    <tr>\n",
       "      <th>0</th>\n",
       "      <td>0</td>\n",
       "      <td>37</td>\n",
       "      <td>1</td>\n",
       "      <td>0</td>\n",
       "      <td>2</td>\n",
       "      <td>9</td>\n",
       "      <td>0</td>\n",
       "      <td>42.39</td>\n",
       "      <td>1</td>\n",
       "      <td>0</td>\n",
       "      <td>3</td>\n",
       "      <td>16.0</td>\n",
       "      <td>0</td>\n",
       "      <td>1</td>\n",
       "      <td>0</td>\n",
       "      <td>0</td>\n",
       "      <td>1</td>\n",
       "      <td>1</td>\n",
       "      <td>0</td>\n",
       "      <td>0</td>\n",
       "      <td>2</td>\n",
       "      <td>1</td>\n",
       "      <td>1</td>\n",
       "      <td>65.6</td>\n",
       "      <td>593.30</td>\n",
       "      <td>0</td>\n",
       "      <td>381.51</td>\n",
       "      <td>974.81</td>\n",
       "      <td>0</td>\n",
       "      <td>0</td>\n",
       "    </tr>\n",
       "    <tr>\n",
       "      <th>1</th>\n",
       "      <td>1</td>\n",
       "      <td>46</td>\n",
       "      <td>0</td>\n",
       "      <td>0</td>\n",
       "      <td>0</td>\n",
       "      <td>9</td>\n",
       "      <td>0</td>\n",
       "      <td>10.69</td>\n",
       "      <td>0</td>\n",
       "      <td>0</td>\n",
       "      <td>3</td>\n",
       "      <td>10.0</td>\n",
       "      <td>0</td>\n",
       "      <td>0</td>\n",
       "      <td>0</td>\n",
       "      <td>1</td>\n",
       "      <td>0</td>\n",
       "      <td>0</td>\n",
       "      <td>1</td>\n",
       "      <td>1</td>\n",
       "      <td>0</td>\n",
       "      <td>2</td>\n",
       "      <td>1</td>\n",
       "      <td>-4.0</td>\n",
       "      <td>542.40</td>\n",
       "      <td>10</td>\n",
       "      <td>96.21</td>\n",
       "      <td>610.28</td>\n",
       "      <td>0</td>\n",
       "      <td>0</td>\n",
       "    </tr>\n",
       "    <tr>\n",
       "      <th>2</th>\n",
       "      <td>1</td>\n",
       "      <td>50</td>\n",
       "      <td>0</td>\n",
       "      <td>0</td>\n",
       "      <td>0</td>\n",
       "      <td>4</td>\n",
       "      <td>0</td>\n",
       "      <td>33.65</td>\n",
       "      <td>1</td>\n",
       "      <td>0</td>\n",
       "      <td>1</td>\n",
       "      <td>30.0</td>\n",
       "      <td>0</td>\n",
       "      <td>0</td>\n",
       "      <td>1</td>\n",
       "      <td>1</td>\n",
       "      <td>0</td>\n",
       "      <td>1</td>\n",
       "      <td>0</td>\n",
       "      <td>0</td>\n",
       "      <td>0</td>\n",
       "      <td>1</td>\n",
       "      <td>0</td>\n",
       "      <td>73.9</td>\n",
       "      <td>280.85</td>\n",
       "      <td>0</td>\n",
       "      <td>134.60</td>\n",
       "      <td>415.45</td>\n",
       "      <td>1</td>\n",
       "      <td>0</td>\n",
       "    </tr>\n",
       "    <tr>\n",
       "      <th>3</th>\n",
       "      <td>1</td>\n",
       "      <td>78</td>\n",
       "      <td>1</td>\n",
       "      <td>0</td>\n",
       "      <td>1</td>\n",
       "      <td>13</td>\n",
       "      <td>0</td>\n",
       "      <td>27.82</td>\n",
       "      <td>1</td>\n",
       "      <td>0</td>\n",
       "      <td>1</td>\n",
       "      <td>4.0</td>\n",
       "      <td>0</td>\n",
       "      <td>1</td>\n",
       "      <td>1</td>\n",
       "      <td>1</td>\n",
       "      <td>1</td>\n",
       "      <td>0</td>\n",
       "      <td>0</td>\n",
       "      <td>0</td>\n",
       "      <td>0</td>\n",
       "      <td>1</td>\n",
       "      <td>0</td>\n",
       "      <td>98.0</td>\n",
       "      <td>1237.85</td>\n",
       "      <td>0</td>\n",
       "      <td>361.66</td>\n",
       "      <td>1599.51</td>\n",
       "      <td>1</td>\n",
       "      <td>1</td>\n",
       "    </tr>\n",
       "    <tr>\n",
       "      <th>4</th>\n",
       "      <td>0</td>\n",
       "      <td>75</td>\n",
       "      <td>1</td>\n",
       "      <td>0</td>\n",
       "      <td>3</td>\n",
       "      <td>3</td>\n",
       "      <td>0</td>\n",
       "      <td>7.38</td>\n",
       "      <td>1</td>\n",
       "      <td>0</td>\n",
       "      <td>1</td>\n",
       "      <td>11.0</td>\n",
       "      <td>0</td>\n",
       "      <td>0</td>\n",
       "      <td>0</td>\n",
       "      <td>0</td>\n",
       "      <td>1</td>\n",
       "      <td>1</td>\n",
       "      <td>0</td>\n",
       "      <td>0</td>\n",
       "      <td>0</td>\n",
       "      <td>1</td>\n",
       "      <td>1</td>\n",
       "      <td>83.9</td>\n",
       "      <td>267.40</td>\n",
       "      <td>0</td>\n",
       "      <td>22.14</td>\n",
       "      <td>289.54</td>\n",
       "      <td>1</td>\n",
       "      <td>1</td>\n",
       "    </tr>\n",
       "  </tbody>\n",
       "</table>\n",
       "</div>"
      ],
      "text/plain": [
       "   Gender  Age  Married  Number of Dependents  Number of Referrals  \\\n",
       "0       0   37        1                     0                    2   \n",
       "1       1   46        0                     0                    0   \n",
       "2       1   50        0                     0                    0   \n",
       "3       1   78        1                     0                    1   \n",
       "4       0   75        1                     0                    3   \n",
       "\n",
       "   Tenure in Months  Phone Service  Avg Monthly Long Distance Charges  \\\n",
       "0                 9              0                              42.39   \n",
       "1                 9              0                              10.69   \n",
       "2                 4              0                              33.65   \n",
       "3                13              0                              27.82   \n",
       "4                 3              0                               7.38   \n",
       "\n",
       "   Multiple Lines  Internet Service  Internet Type  Avg Monthly GB Download  \\\n",
       "0               1                 0              3                     16.0   \n",
       "1               0                 0              3                     10.0   \n",
       "2               1                 0              1                     30.0   \n",
       "3               1                 0              1                      4.0   \n",
       "4               1                 0              1                     11.0   \n",
       "\n",
       "   Online Security  Online Backup  Device Protection Plan  \\\n",
       "0                0              1                       0   \n",
       "1                0              0                       0   \n",
       "2                0              0                       1   \n",
       "3                0              1                       1   \n",
       "4                0              0                       0   \n",
       "\n",
       "   Premium Tech Support  Streaming TV  Streaming Movies  Streaming Music  \\\n",
       "0                     0             1                 1                0   \n",
       "1                     1             0                 0                1   \n",
       "2                     1             0                 1                0   \n",
       "3                     1             1                 0                0   \n",
       "4                     0             1                 1                0   \n",
       "\n",
       "   Unlimited Data  Contract  Paperless Billing  Payment Method  \\\n",
       "0               0         2                  1               1   \n",
       "1               1         0                  2               1   \n",
       "2               0         0                  1               0   \n",
       "3               0         0                  1               0   \n",
       "4               0         0                  1               1   \n",
       "\n",
       "   Monthly Charge  Total Charges  Total Extra Data Charges  \\\n",
       "0            65.6         593.30                         0   \n",
       "1            -4.0         542.40                        10   \n",
       "2            73.9         280.85                         0   \n",
       "3            98.0        1237.85                         0   \n",
       "4            83.9         267.40                         0   \n",
       "\n",
       "   Total Long Distance Charges  Total Revenue  Customer Status  Churn Category  \n",
       "0                       381.51         974.81                0               0  \n",
       "1                        96.21         610.28                0               0  \n",
       "2                       134.60         415.45                1               0  \n",
       "3                       361.66        1599.51                1               1  \n",
       "4                        22.14         289.54                1               1  "
      ]
     },
     "execution_count": 80,
     "metadata": {},
     "output_type": "execute_result"
    }
   ],
   "source": [
    "# Let's check if the categorical features were successfully encoded\n",
    "\n",
    "Customer_data.head()"
   ]
  },
  {
   "cell_type": "code",
   "execution_count": null,
   "id": "dcb76a9b",
   "metadata": {},
   "outputs": [],
   "source": []
  },
  {
   "cell_type": "markdown",
   "id": "7c8bbb12",
   "metadata": {},
   "source": [
    "# Store Feature Variables in X and Target in Vector y"
   ]
  },
  {
   "cell_type": "code",
   "execution_count": null,
   "id": "7105c87d",
   "metadata": {},
   "outputs": [],
   "source": []
  },
  {
   "cell_type": "code",
   "execution_count": 81,
   "id": "8e4141f7",
   "metadata": {},
   "outputs": [],
   "source": [
    "X = Customer_data.drop('Customer Status', axis = 1)\n",
    "y = Customer_data['Customer Status']"
   ]
  },
  {
   "cell_type": "code",
   "execution_count": 82,
   "id": "d3f48df2",
   "metadata": {},
   "outputs": [
    {
     "name": "stdout",
     "output_type": "stream",
     "text": [
      "      Gender  Age  Married  Number of Dependents  Number of Referrals  \\\n",
      "0          0   37        1                     0                    2   \n",
      "1          1   46        0                     0                    0   \n",
      "2          1   50        0                     0                    0   \n",
      "3          1   78        1                     0                    1   \n",
      "4          0   75        1                     0                    3   \n",
      "...      ...  ...      ...                   ...                  ...   \n",
      "7034       1   72        1                     1                    1   \n",
      "7036       0   53        0                     0                    0   \n",
      "7037       0   36        0                     0                    0   \n",
      "7039       1   40        1                     0                    1   \n",
      "7042       1   36        1                     0                    1   \n",
      "\n",
      "      Tenure in Months  Phone Service  Avg Monthly Long Distance Charges  \\\n",
      "0                    9              0                              42.39   \n",
      "1                    9              0                              10.69   \n",
      "2                    4              0                              33.65   \n",
      "3                   13              0                              27.82   \n",
      "4                    3              0                               7.38   \n",
      "...                ...            ...                                ...   \n",
      "7034                47              0                              42.29   \n",
      "7036                 1              0                              42.09   \n",
      "7037                 4              0                               2.01   \n",
      "7039                22              0                              16.20   \n",
      "7042                63              1                              25.69   \n",
      "\n",
      "      Multiple Lines  Internet Service  Internet Type  \\\n",
      "0                  1                 0              3   \n",
      "1                  0                 0              3   \n",
      "2                  1                 0              1   \n",
      "3                  1                 0              1   \n",
      "4                  1                 0              1   \n",
      "...              ...               ...            ...   \n",
      "7034               1                 0              1   \n",
      "7036               1                 0              1   \n",
      "7037               1                 1              1   \n",
      "7039               0                 0              1   \n",
      "7042               1                 0              3   \n",
      "\n",
      "      Avg Monthly GB Download  Online Security  Online Backup  \\\n",
      "0                        16.0                0              1   \n",
      "1                        10.0                0              0   \n",
      "2                        30.0                0              0   \n",
      "3                         4.0                0              1   \n",
      "4                        11.0                0              0   \n",
      "...                       ...              ...            ...   \n",
      "7034                     22.0                0              1   \n",
      "7036                      9.0                0              0   \n",
      "7037                     21.0                0              0   \n",
      "7039                     17.0                0              0   \n",
      "7042                      5.0                1              1   \n",
      "\n",
      "      Device Protection Plan  Premium Tech Support  Streaming TV  \\\n",
      "0                          0                     0             1   \n",
      "1                          0                     1             0   \n",
      "2                          1                     1             0   \n",
      "3                          1                     1             1   \n",
      "4                          0                     0             1   \n",
      "...                      ...                   ...           ...   \n",
      "7034                       0                     1             1   \n",
      "7036                       0                     1             0   \n",
      "7037                       0                     1             0   \n",
      "7039                       0                     1             0   \n",
      "7042                       1                     1             1   \n",
      "\n",
      "      Streaming Movies  Streaming Music  Unlimited Data  Contract  \\\n",
      "0                    1                0               0         2   \n",
      "1                    0                1               1         0   \n",
      "2                    1                0               0         0   \n",
      "3                    0                0               0         0   \n",
      "4                    1                0               0         0   \n",
      "...                ...              ...             ...       ...   \n",
      "7034                 1                0               1         2   \n",
      "7036                 1                0               0         0   \n",
      "7037                 1                0               0         0   \n",
      "7039                 0                1               0         0   \n",
      "7042                 0                1               0         1   \n",
      "\n",
      "      Paperless Billing  Payment Method  Monthly Charge  Total Charges  \\\n",
      "0                     1               1           65.60         593.30   \n",
      "1                     2               1           -4.00         542.40   \n",
      "2                     1               0           73.90         280.85   \n",
      "3                     1               0           98.00        1237.85   \n",
      "4                     1               1           83.90         267.40   \n",
      "...                 ...             ...             ...            ...   \n",
      "7034                  1               0           84.95        4018.05   \n",
      "7036                  1               1           70.15          70.15   \n",
      "7037                  2               0           20.95          85.50   \n",
      "7039                  1               0           85.10        1873.70   \n",
      "7042                  2               0           59.00        3707.60   \n",
      "\n",
      "      Total Extra Data Charges  Total Long Distance Charges  Total Revenue  \\\n",
      "0                            0                       381.51         974.81   \n",
      "1                           10                        96.21         610.28   \n",
      "2                            0                       134.60         415.45   \n",
      "3                            0                       361.66        1599.51   \n",
      "4                            0                        22.14         289.54   \n",
      "...                        ...                          ...            ...   \n",
      "7034                        80                      1987.63        6085.68   \n",
      "7036                         0                        42.09         112.24   \n",
      "7037                         0                         8.04          93.54   \n",
      "7039                         0                       356.40        2230.10   \n",
      "7042                         0                         0.00        3707.60   \n",
      "\n",
      "      Churn Category  \n",
      "0                  0  \n",
      "1                  0  \n",
      "2                  0  \n",
      "3                  1  \n",
      "4                  1  \n",
      "...              ...  \n",
      "7034               0  \n",
      "7036               0  \n",
      "7037               0  \n",
      "7039               1  \n",
      "7042               0  \n",
      "\n",
      "[5012 rows x 29 columns]\n"
     ]
    }
   ],
   "source": [
    "# Let's view the X values\n",
    "\n",
    "print(X)"
   ]
  },
  {
   "cell_type": "code",
   "execution_count": 83,
   "id": "59a58e9d",
   "metadata": {},
   "outputs": [
    {
     "name": "stdout",
     "output_type": "stream",
     "text": [
      "0       0\n",
      "1       0\n",
      "2       1\n",
      "3       1\n",
      "4       1\n",
      "       ..\n",
      "7034    0\n",
      "7036    1\n",
      "7037    1\n",
      "7039    1\n",
      "7042    0\n",
      "Name: Customer Status, Length: 5012, dtype: int64\n"
     ]
    }
   ],
   "source": [
    "# Let's also view the y values\n",
    "\n",
    "print(y)"
   ]
  },
  {
   "cell_type": "code",
   "execution_count": null,
   "id": "04edc0f7",
   "metadata": {},
   "outputs": [],
   "source": []
  },
  {
   "cell_type": "code",
   "execution_count": 84,
   "id": "60745aeb",
   "metadata": {},
   "outputs": [],
   "source": [
    "from sklearn.model_selection import train_test_split"
   ]
  },
  {
   "cell_type": "code",
   "execution_count": 85,
   "id": "e0581105",
   "metadata": {},
   "outputs": [
    {
     "name": "stdout",
     "output_type": "stream",
     "text": [
      "(5012, 29) (4009, 29) (1003, 29)\n"
     ]
    }
   ],
   "source": [
    "# Split the dataset into training and testing sets\n",
    "X_train, X_test, y_train, y_test = train_test_split(X, y, test_size=0.2, random_state=42)\n",
    "\n",
    "# let's check the shapes of x_train and x_test\n",
    "print(X.shape, X_train.shape, X_test.shape)"
   ]
  },
  {
   "cell_type": "code",
   "execution_count": null,
   "id": "66579567",
   "metadata": {},
   "outputs": [],
   "source": []
  },
  {
   "cell_type": "code",
   "execution_count": 86,
   "id": "0089c69b",
   "metadata": {},
   "outputs": [],
   "source": [
    "from sklearn.preprocessing import StandardScaler"
   ]
  },
  {
   "cell_type": "code",
   "execution_count": 87,
   "id": "1e5b2150",
   "metadata": {},
   "outputs": [],
   "source": [
    "# let's standardized the dataset\n",
    "Sc = StandardScaler()\n",
    "X_train = Sc.fit_transform(X_train)\n",
    "X_test = Sc.transform(X_test)"
   ]
  },
  {
   "cell_type": "code",
   "execution_count": 88,
   "id": "7ba0e1d0",
   "metadata": {},
   "outputs": [
    {
     "data": {
      "text/plain": [
       "array([[-1.00826564e+00, -8.12447284e-01, -8.15393837e-01, ...,\n",
       "        -6.82229311e-01, -8.03166290e-01,  6.40495866e-01],\n",
       "       [ 9.91802122e-01,  1.54853133e+00,  1.22640122e+00, ...,\n",
       "        -7.68789931e-01,  1.80123402e-03, -4.01609624e-01],\n",
       "       [-1.00826564e+00, -6.15699066e-01,  1.22640122e+00, ...,\n",
       "         2.16491523e+00,  2.48559818e+00,  2.72470685e+00],\n",
       "       ...,\n",
       "       [ 9.91802122e-01, -6.81281806e-01, -8.15393837e-01, ...,\n",
       "        -8.89355982e-01, -3.01601875e-01, -4.01609624e-01],\n",
       "       [ 9.91802122e-01, -8.78030023e-01, -8.15393837e-01, ...,\n",
       "        -5.12968306e-01,  4.76079962e-01, -4.01609624e-01],\n",
       "       [ 9.91802122e-01, -7.46864545e-01,  1.22640122e+00, ...,\n",
       "         4.57895607e-01,  8.36955040e-01, -4.01609624e-01]])"
      ]
     },
     "execution_count": 88,
     "metadata": {},
     "output_type": "execute_result"
    }
   ],
   "source": [
    "X_train"
   ]
  },
  {
   "cell_type": "code",
   "execution_count": 89,
   "id": "fc267fc9",
   "metadata": {},
   "outputs": [
    {
     "data": {
      "text/plain": [
       "array([[-1.00826564, -0.02545441, -0.81539384, ..., -0.55711054,\n",
       "        -0.75330786, -0.40160962],\n",
       "       [ 0.99180212, -1.66502289, -0.81539384, ..., -0.82605991,\n",
       "        -1.00985777, -0.40160962],\n",
       "       [ 0.99180212,  0.8271212 ,  1.22640122, ...,  0.57488136,\n",
       "         0.12323279,  3.76681234],\n",
       "       ...,\n",
       "       [-1.00826564,  0.30245928,  1.22640122, ..., -0.88935598,\n",
       "        -0.99448001, -0.40160962],\n",
       "       [-1.00826564,  0.8271212 ,  1.22640122, ...,  0.21585001,\n",
       "        -0.21361296, -0.40160962],\n",
       "       [ 0.99180212, -1.14036098, -0.81539384, ..., -0.60346283,\n",
       "        -0.90934984, -0.40160962]])"
      ]
     },
     "execution_count": 89,
     "metadata": {},
     "output_type": "execute_result"
    }
   ],
   "source": [
    "X_test"
   ]
  },
  {
   "cell_type": "code",
   "execution_count": null,
   "id": "da9ddcf2",
   "metadata": {},
   "outputs": [],
   "source": []
  },
  {
   "cell_type": "code",
   "execution_count": 90,
   "id": "363d3235",
   "metadata": {},
   "outputs": [],
   "source": [
    "# import necessary libraries \n",
    "\n",
    "from sklearn.ensemble import GradientBoostingClassifier\n",
    "from sklearn.metrics import accuracy_score"
   ]
  },
  {
   "cell_type": "code",
   "execution_count": null,
   "id": "fda60f5a",
   "metadata": {},
   "outputs": [],
   "source": []
  },
  {
   "cell_type": "code",
   "execution_count": 91,
   "id": "a603754e",
   "metadata": {},
   "outputs": [
    {
     "name": "stdout",
     "output_type": "stream",
     "text": [
      "Accuracy of Model: 0.9072781655034895\n"
     ]
    }
   ],
   "source": [
    "# Create a Gradient Boosting Model\n",
    "gbm = GradientBoostingClassifier()\n",
    "\n",
    "# Fit the model to the training data\n",
    "gbm.fit(X_train, y_train)\n",
    "\n",
    "# Make predictions on the test data\n",
    "y_pred = gbm.predict(X_test)\n",
    "\n",
    "# Calculate and print the accuracy of the model\n",
    "accuracy = accuracy_score(y_test, y_pred)\n",
    "print(f\"Accuracy of Model: {accuracy}\")"
   ]
  },
  {
   "cell_type": "code",
   "execution_count": null,
   "id": "9a2f83f6",
   "metadata": {},
   "outputs": [],
   "source": []
  },
  {
   "cell_type": "markdown",
   "id": "acfc40ef",
   "metadata": {},
   "source": [
    "# HYPERPARAMETER TUNING: RANDOM SEARCH"
   ]
  },
  {
   "cell_type": "code",
   "execution_count": null,
   "id": "476a4dd5",
   "metadata": {},
   "outputs": [],
   "source": []
  },
  {
   "cell_type": "code",
   "execution_count": 92,
   "id": "5e3db23a",
   "metadata": {},
   "outputs": [],
   "source": [
    "from sklearn.model_selection import RandomizedSearchCV\n",
    "import numpy as np\n",
    "\n",
    "# Define distributions for hyperparameters\n",
    "param_dist = {\n",
    "    'n_estimators': np.arange(50, 200, 10),\n",
    "    'learning_rate': np.linspace(0.01, 0.2, 20),\n",
    "    'max_depth': np.arange(3, 10),\n",
    "}\n",
    "\n",
    "# Create a RandomizedSearchCV object\n",
    "random_search = RandomizedSearchCV(estimator=GradientBoostingClassifier(),\n",
    "                                   param_distributions=param_dist,\n",
    "                                   n_iter=20,\n",
    "                                   cv=3,\n",
    "                                   verbose=2,\n",
    "                                   random_state=42)"
   ]
  },
  {
   "cell_type": "code",
   "execution_count": 93,
   "id": "a8c45a32",
   "metadata": {},
   "outputs": [
    {
     "name": "stdout",
     "output_type": "stream",
     "text": [
      "Fitting 3 folds for each of 20 candidates, totalling 60 fits\n",
      "[CV] END ..learning_rate=0.09, max_depth=4, n_estimators=100; total time=   3.9s\n",
      "[CV] END ..learning_rate=0.09, max_depth=4, n_estimators=100; total time=   4.3s\n",
      "[CV] END ..learning_rate=0.09, max_depth=4, n_estimators=100; total time=   3.7s\n",
      "[CV] END ...learning_rate=0.13, max_depth=5, n_estimators=90; total time=   4.1s\n",
      "[CV] END ...learning_rate=0.13, max_depth=5, n_estimators=90; total time=   5.4s\n",
      "[CV] END ...learning_rate=0.13, max_depth=5, n_estimators=90; total time=   5.7s\n",
      "[CV] END ..learning_rate=0.11, max_depth=8, n_estimators=100; total time=   8.8s\n",
      "[CV] END ..learning_rate=0.11, max_depth=8, n_estimators=100; total time=  12.3s\n",
      "[CV] END ..learning_rate=0.11, max_depth=8, n_estimators=100; total time=  10.3s\n",
      "[CV] END ...learning_rate=0.11, max_depth=6, n_estimators=50; total time=   2.6s\n",
      "[CV] END ...learning_rate=0.11, max_depth=6, n_estimators=50; total time=   2.2s\n",
      "[CV] END ...learning_rate=0.11, max_depth=6, n_estimators=50; total time=   2.2s\n",
      "[CV] END ...learning_rate=0.16, max_depth=7, n_estimators=80; total time=   5.1s\n",
      "[CV] END ...learning_rate=0.16, max_depth=7, n_estimators=80; total time=   4.3s\n",
      "[CV] END ...learning_rate=0.16, max_depth=7, n_estimators=80; total time=   4.3s\n",
      "[CV] END ...learning_rate=0.05, max_depth=6, n_estimators=60; total time=   2.6s\n",
      "[CV] END ...learning_rate=0.05, max_depth=6, n_estimators=60; total time=   3.2s\n",
      "[CV] END ...learning_rate=0.05, max_depth=6, n_estimators=60; total time=   2.6s\n",
      "[CV] END ..learning_rate=0.12, max_depth=8, n_estimators=130; total time=   8.4s\n",
      "[CV] END ..learning_rate=0.12, max_depth=8, n_estimators=130; total time=  15.8s\n",
      "[CV] END ..learning_rate=0.12, max_depth=8, n_estimators=130; total time=  11.2s\n",
      "[CV] END ...learning_rate=0.04, max_depth=4, n_estimators=50; total time=   1.7s\n",
      "[CV] END ...learning_rate=0.04, max_depth=4, n_estimators=50; total time=   1.7s\n",
      "[CV] END ...learning_rate=0.04, max_depth=4, n_estimators=50; total time=   1.7s\n",
      "[CV] END learning_rate=0.15000000000000002, max_depth=3, n_estimators=170; total time=   5.5s\n",
      "[CV] END learning_rate=0.15000000000000002, max_depth=3, n_estimators=170; total time=   4.8s\n",
      "[CV] END learning_rate=0.15000000000000002, max_depth=3, n_estimators=170; total time=   4.9s\n",
      "[CV] END ..learning_rate=0.02, max_depth=4, n_estimators=150; total time=   6.7s\n",
      "[CV] END ..learning_rate=0.02, max_depth=4, n_estimators=150; total time=   5.4s\n",
      "[CV] END ..learning_rate=0.02, max_depth=4, n_estimators=150; total time=   9.9s\n",
      "[CV] END ..learning_rate=0.17, max_depth=3, n_estimators=100; total time=   3.6s\n",
      "[CV] END ..learning_rate=0.17, max_depth=3, n_estimators=100; total time=   2.9s\n",
      "[CV] END ..learning_rate=0.17, max_depth=3, n_estimators=100; total time=   3.1s\n",
      "[CV] END ...learning_rate=0.08, max_depth=5, n_estimators=90; total time=   4.8s\n",
      "[CV] END ...learning_rate=0.08, max_depth=5, n_estimators=90; total time=   3.3s\n",
      "[CV] END ...learning_rate=0.08, max_depth=5, n_estimators=90; total time=   3.4s\n",
      "[CV] END learning_rate=0.15000000000000002, max_depth=6, n_estimators=50; total time=   2.3s\n",
      "[CV] END learning_rate=0.15000000000000002, max_depth=6, n_estimators=50; total time=   2.2s\n",
      "[CV] END learning_rate=0.15000000000000002, max_depth=6, n_estimators=50; total time=   2.7s\n",
      "[CV] END ...learning_rate=0.12, max_depth=7, n_estimators=50; total time=   2.8s\n",
      "[CV] END ...learning_rate=0.12, max_depth=7, n_estimators=50; total time=   2.6s\n",
      "[CV] END ...learning_rate=0.12, max_depth=7, n_estimators=50; total time=   2.6s\n",
      "[CV] END learning_rate=0.09999999999999999, max_depth=3, n_estimators=150; total time=   3.5s\n",
      "[CV] END learning_rate=0.09999999999999999, max_depth=3, n_estimators=150; total time=   3.9s\n",
      "[CV] END learning_rate=0.09999999999999999, max_depth=3, n_estimators=150; total time=   3.6s\n",
      "[CV] END ..learning_rate=0.12, max_depth=4, n_estimators=190; total time=  10.6s\n",
      "[CV] END ..learning_rate=0.12, max_depth=4, n_estimators=190; total time=   8.9s\n",
      "[CV] END ..learning_rate=0.12, max_depth=4, n_estimators=190; total time=   8.0s\n",
      "[CV] END ..learning_rate=0.05, max_depth=5, n_estimators=140; total time=   6.8s\n",
      "[CV] END ..learning_rate=0.05, max_depth=5, n_estimators=140; total time=   6.2s\n",
      "[CV] END ..learning_rate=0.05, max_depth=5, n_estimators=140; total time=   7.6s\n",
      "[CV] END ..learning_rate=0.01, max_depth=4, n_estimators=110; total time=   4.0s\n",
      "[CV] END ..learning_rate=0.01, max_depth=4, n_estimators=110; total time=   4.6s\n",
      "[CV] END ..learning_rate=0.01, max_depth=4, n_estimators=110; total time=   6.8s\n",
      "[CV] END ..learning_rate=0.08, max_depth=3, n_estimators=170; total time=   8.9s\n",
      "[CV] END ..learning_rate=0.08, max_depth=3, n_estimators=170; total time=   7.2s\n",
      "[CV] END ..learning_rate=0.08, max_depth=3, n_estimators=170; total time=   4.2s\n",
      "[CV] END ..learning_rate=0.05, max_depth=6, n_estimators=140; total time=   6.7s\n",
      "[CV] END ..learning_rate=0.05, max_depth=6, n_estimators=140; total time=   6.5s\n",
      "[CV] END ..learning_rate=0.05, max_depth=6, n_estimators=140; total time=   6.3s\n"
     ]
    },
    {
     "data": {
      "text/plain": [
       "RandomizedSearchCV(cv=3, estimator=GradientBoostingClassifier(), n_iter=20,\n",
       "                   param_distributions={'learning_rate': array([0.01, 0.02, 0.03, 0.04, 0.05, 0.06, 0.07, 0.08, 0.09, 0.1 , 0.11,\n",
       "       0.12, 0.13, 0.14, 0.15, 0.16, 0.17, 0.18, 0.19, 0.2 ]),\n",
       "                                        'max_depth': array([3, 4, 5, 6, 7, 8, 9]),\n",
       "                                        'n_estimators': array([ 50,  60,  70,  80,  90, 100, 110, 120, 130, 140, 150, 160, 170,\n",
       "       180, 190])},\n",
       "                   random_state=42, verbose=2)"
      ]
     },
     "execution_count": 93,
     "metadata": {},
     "output_type": "execute_result"
    }
   ],
   "source": [
    "# Fit the random search to the training data\n",
    "random_search.fit(X_train, y_train)"
   ]
  },
  {
   "cell_type": "code",
   "execution_count": 94,
   "id": "b41e9a5f",
   "metadata": {},
   "outputs": [
    {
     "name": "stdout",
     "output_type": "stream",
     "text": [
      "Best Hyperparameters from Random Search: {'n_estimators': 150, 'max_depth': 4, 'learning_rate': 0.02}\n"
     ]
    }
   ],
   "source": [
    "# Get the best hyperparameters from the random search\n",
    "best_params_random = random_search.best_params_\n",
    "print(f\"Best Hyperparameters from Random Search: {best_params_random}\")"
   ]
  },
  {
   "cell_type": "code",
   "execution_count": 95,
   "id": "4620574d",
   "metadata": {},
   "outputs": [
    {
     "data": {
      "text/plain": [
       "GradientBoostingClassifier(learning_rate=0.02, max_depth=4, n_estimators=150)"
      ]
     },
     "execution_count": 95,
     "metadata": {},
     "output_type": "execute_result"
    }
   ],
   "source": [
    "# Fit the model with the best hyperparameters to the training data\n",
    "best_gbm_random = random_search.best_estimator_\n",
    "best_gbm_random.fit(X_train, y_train)"
   ]
  },
  {
   "cell_type": "code",
   "execution_count": 96,
   "id": "84993484",
   "metadata": {},
   "outputs": [],
   "source": [
    "# Make predictions on the test data using the best model\n",
    "y_pred_random = best_gbm_random.predict(X_test)"
   ]
  },
  {
   "cell_type": "code",
   "execution_count": 97,
   "id": "acd65f1e",
   "metadata": {},
   "outputs": [
    {
     "name": "stdout",
     "output_type": "stream",
     "text": [
      "Accuracy after Random Search: 0.9072781655034895\n"
     ]
    }
   ],
   "source": [
    "# Calculate and print the accuracy of the tuned model\n",
    "accuracy_random = accuracy_score(y_test, y_pred_random)\n",
    "print(f\"Accuracy after Random Search: {accuracy_random}\")"
   ]
  },
  {
   "cell_type": "code",
   "execution_count": null,
   "id": "7afc4c1a",
   "metadata": {},
   "outputs": [],
   "source": []
  },
  {
   "cell_type": "code",
   "execution_count": null,
   "id": "882a0efa",
   "metadata": {},
   "outputs": [],
   "source": []
  }
 ],
 "metadata": {
  "kernelspec": {
   "display_name": "Python 3 (ipykernel)",
   "language": "python",
   "name": "python3"
  },
  "language_info": {
   "codemirror_mode": {
    "name": "ipython",
    "version": 3
   },
   "file_extension": ".py",
   "mimetype": "text/x-python",
   "name": "python",
   "nbconvert_exporter": "python",
   "pygments_lexer": "ipython3",
   "version": "3.9.12"
  }
 },
 "nbformat": 4,
 "nbformat_minor": 5
}
